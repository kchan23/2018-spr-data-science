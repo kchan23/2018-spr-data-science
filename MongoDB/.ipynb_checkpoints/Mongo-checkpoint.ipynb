{
 "cells": [
  {
   "cell_type": "code",
   "execution_count": 1,
   "metadata": {},
   "outputs": [
    {
     "name": "stdout",
     "output_type": "stream",
     "text": [
      "\n",
      "\n",
      "Package plan for installation in environment /opt/conda:\n",
      "\n",
      "The following NEW packages will be INSTALLED:\n",
      "\n",
      "    pymongo: 3.6.1-py36_0 conda-forge\n",
      "\n"
     ]
    }
   ],
   "source": [
    "!conda install --yes --quiet pymongo"
   ]
  },
  {
   "cell_type": "code",
   "execution_count": 2,
   "metadata": {},
   "outputs": [],
   "source": [
    "import pymongo\n",
    "from pymongo import MongoClient"
   ]
  },
  {
   "cell_type": "code",
   "execution_count": 3,
   "metadata": {},
   "outputs": [],
   "source": [
    "client = MongoClient('18.236.138.158', 27016)"
   ]
  },
  {
   "cell_type": "code",
   "execution_count": 5,
   "metadata": {},
   "outputs": [
    {
     "data": {
      "text/plain": [
       "['admin', 'config', 'local', 'twitter']"
      ]
     },
     "execution_count": 5,
     "metadata": {},
     "output_type": "execute_result"
    }
   ],
   "source": [
    "client.database_names() #Alternative is the dictionary style (client['test-database'])"
   ]
  },
  {
   "cell_type": "code",
   "execution_count": 7,
   "metadata": {},
   "outputs": [
    {
     "data": {
      "text/plain": [
       "Database(MongoClient(host=['18.236.138.158:27016'], document_class=dict, tz_aware=False, connect=True), 'twitter')"
      ]
     },
     "execution_count": 7,
     "metadata": {},
     "output_type": "execute_result"
    }
   ],
   "source": [
    "client.twitter"
   ]
  },
  {
   "cell_type": "code",
   "execution_count": 8,
   "metadata": {},
   "outputs": [
    {
     "data": {
      "text/plain": [
       "Database(MongoClient(host=['18.236.138.158:27016'], document_class=dict, tz_aware=False, connect=True), 'foobar')"
      ]
     },
     "execution_count": 8,
     "metadata": {},
     "output_type": "execute_result"
    }
   ],
   "source": [
    "fb = client.foobar\n",
    "fb"
   ]
  },
  {
   "cell_type": "code",
   "execution_count": 9,
   "metadata": {},
   "outputs": [
    {
     "data": {
      "text/plain": [
       "Collection(Database(MongoClient(host=['18.236.138.158:27016'], document_class=dict, tz_aware=False, connect=True), 'foobar'), 'bang')"
      ]
     },
     "execution_count": 9,
     "metadata": {},
     "output_type": "execute_result"
    }
   ],
   "source": [
    "bg = fb.bang\n",
    "bg"
   ]
  },
  {
   "cell_type": "code",
   "execution_count": 10,
   "metadata": {},
   "outputs": [
    {
     "data": {
      "text/plain": [
       "<pymongo.results.InsertOneResult at 0x7fa36f454f08>"
      ]
     },
     "execution_count": 10,
     "metadata": {},
     "output_type": "execute_result"
    }
   ],
   "source": [
    "bg.insert_one({'key' : 'hello'})"
   ]
  },
  {
   "cell_type": "code",
   "execution_count": 11,
   "metadata": {},
   "outputs": [
    {
     "data": {
      "text/plain": [
       "['bang']"
      ]
     },
     "execution_count": 11,
     "metadata": {},
     "output_type": "execute_result"
    }
   ],
   "source": [
    "fb.collection_names()"
   ]
  },
  {
   "cell_type": "code",
   "execution_count": 13,
   "metadata": {},
   "outputs": [
    {
     "data": {
      "text/plain": [
       "[{'_id': ObjectId('5af4fb74de4fb200312dfb55'), 'key': 'hello'},\n",
       " {'_id': ObjectId('5af4fb797a687d00200e215a'), 'key': 'hello'},\n",
       " {'_id': ObjectId('5af4fb79863f3b018cf72234'), 'key': 'hello'},\n",
       " {'_id': ObjectId('5af4fb7a57503a01227c6c13'), 'key': 'hello'},\n",
       " {'_id': ObjectId('5af4fb7b8c304f00e9e8c5da'), 'key': 'hello'},\n",
       " {'_id': ObjectId('5af4fb7eaedac000b72f06dc'), 'key': 'hello'},\n",
       " {'_id': ObjectId('5af4fb810017a000bcc7f41e'), 'key': 'hello'},\n",
       " {'_id': ObjectId('5af4fb8136db76008b1d6744'), 'key': 'hello'},\n",
       " {'_id': ObjectId('5af4fb815807e5011be017bb'), 'key': 'hello'},\n",
       " {'_id': ObjectId('5af4fb8219c01500fcef90b8'), 'key': 'hello'},\n",
       " {'_id': ObjectId('5af4fb82f533a80084cfc78d'), 'key': 'hello'},\n",
       " {'_id': ObjectId('5af4fb873ab8630190515ef5'), 'key': 'hello'},\n",
       " {'_id': ObjectId('5af4fb8c9fea5000b7966ad8'), 'key': 'hello'},\n",
       " {'_id': ObjectId('5af4fba7dc6b0206d589c4b0'), 'key': 'hello'},\n",
       " {'WHAT IS UP JOSH': 'hello', '_id': ObjectId('5af4fbd336db76008b1d6745')},\n",
       " {'_id': ObjectId('5af4fbd7c7f98000f891ffb9'), 'key': 'aslkdjfasldkfjalsdjf'},\n",
       " {'_id': ObjectId('5af4fbd988d1170133bfffb5'), 'key': 'hello'}]"
      ]
     },
     "execution_count": 13,
     "metadata": {},
     "output_type": "execute_result"
    }
   ],
   "source": [
    "list(bg.find())"
   ]
  },
  {
   "cell_type": "code",
   "execution_count": 15,
   "metadata": {},
   "outputs": [
    {
     "data": {
      "text/plain": [
       "{'_id': ObjectId('5a4d5678bfe2f9001587a12e'),\n",
       " 'contributors': None,\n",
       " 'coordinates': None,\n",
       " 'created_at': 'Wed Jan 03 22:16:02 +0000 2018',\n",
       " 'entities': {'hashtags': [], 'symbols': [], 'urls': [], 'user_mentions': []},\n",
       " 'favorite_count': 0,\n",
       " 'favorited': False,\n",
       " 'filter_level': 'low',\n",
       " 'geo': None,\n",
       " 'id': 948679371505655808,\n",
       " 'id_str': '948679371505655808',\n",
       " 'in_reply_to_screen_name': None,\n",
       " 'in_reply_to_status_id': None,\n",
       " 'in_reply_to_status_id_str': None,\n",
       " 'in_reply_to_user_id': None,\n",
       " 'in_reply_to_user_id_str': None,\n",
       " 'is_quote_status': False,\n",
       " 'lang': 'tl',\n",
       " 'place': {'attributes': {},\n",
       "  'bounding_box': {'coordinates': [[[-118.668404, 33.704538],\n",
       "     [-118.668404, 34.337041],\n",
       "     [-118.155409, 34.337041],\n",
       "     [-118.155409, 33.704538]]],\n",
       "   'type': 'Polygon'},\n",
       "  'country': 'United States',\n",
       "  'country_code': 'US',\n",
       "  'full_name': 'Los Angeles, CA',\n",
       "  'id': '3b77caf94bfc81fe',\n",
       "  'name': 'Los Angeles',\n",
       "  'place_type': 'city',\n",
       "  'url': 'https://api.twitter.com/1.1/geo/id/3b77caf94bfc81fe.json'},\n",
       " 'quote_count': 0,\n",
       " 'reply_count': 0,\n",
       " 'retweet_count': 0,\n",
       " 'retweeted': False,\n",
       " 'source': '<a href=\"http://twitter.com/download/iphone\" rel=\"nofollow\">Twitter for iPhone</a>',\n",
       " 'text': 'Putangina ang boring na ng buhay ko dito jusko',\n",
       " 'timestamp_ms': '1515017762434',\n",
       " 'truncated': False,\n",
       " 'user': {'contributors_enabled': False,\n",
       "  'created_at': 'Fri Mar 02 13:22:22 +0000 2012',\n",
       "  'default_profile': False,\n",
       "  'default_profile_image': False,\n",
       "  'description': None,\n",
       "  'favourites_count': 4830,\n",
       "  'follow_request_sent': None,\n",
       "  'followers_count': 773,\n",
       "  'following': None,\n",
       "  'friends_count': 100,\n",
       "  'geo_enabled': True,\n",
       "  'id': 511923569,\n",
       "  'id_str': '511923569',\n",
       "  'is_translator': False,\n",
       "  'lang': 'en',\n",
       "  'listed_count': 1,\n",
       "  'location': 'Los Angeles, CA',\n",
       "  'name': 'Juan Miguel',\n",
       "  'notifications': None,\n",
       "  'profile_background_color': '000000',\n",
       "  'profile_background_image_url': 'http://pbs.twimg.com/profile_background_images/531342961343086592/4a7yCk4x.jpeg',\n",
       "  'profile_background_image_url_https': 'https://pbs.twimg.com/profile_background_images/531342961343086592/4a7yCk4x.jpeg',\n",
       "  'profile_background_tile': False,\n",
       "  'profile_banner_url': 'https://pbs.twimg.com/profile_banners/511923569/1514535792',\n",
       "  'profile_image_url': 'http://pbs.twimg.com/profile_images/946844999412473856/07sICdIq_normal.jpg',\n",
       "  'profile_image_url_https': 'https://pbs.twimg.com/profile_images/946844999412473856/07sICdIq_normal.jpg',\n",
       "  'profile_link_color': '000000',\n",
       "  'profile_sidebar_border_color': 'FFFFFF',\n",
       "  'profile_sidebar_fill_color': 'EFEFEF',\n",
       "  'profile_text_color': '333333',\n",
       "  'profile_use_background_image': True,\n",
       "  'protected': False,\n",
       "  'screen_name': 'euanbedural_',\n",
       "  'statuses_count': 5142,\n",
       "  'time_zone': 'Hong Kong',\n",
       "  'translator_type': 'none',\n",
       "  'url': None,\n",
       "  'utc_offset': 28800,\n",
       "  'verified': False},\n",
       " 'user_processed': True}"
      ]
     },
     "execution_count": 15,
     "metadata": {},
     "output_type": "execute_result"
    }
   ],
   "source": [
    "client.twitter.tweets.find_one()"
   ]
  },
  {
   "cell_type": "code",
   "execution_count": 17,
   "metadata": {},
   "outputs": [
    {
     "data": {
      "text/plain": [
       "'Putangina ang boring na ng buhay ko dito jusko'"
      ]
     },
     "execution_count": 17,
     "metadata": {},
     "output_type": "execute_result"
    }
   ],
   "source": [
    "tweet = client.twitter.tweets.find_one()\n",
    "tweet['text']"
   ]
  }
 ],
 "metadata": {
  "kernelspec": {
   "display_name": "Python 3",
   "language": "python",
   "name": "python3"
  },
  "language_info": {
   "codemirror_mode": {
    "name": "ipython",
    "version": 3
   },
   "file_extension": ".py",
   "mimetype": "text/x-python",
   "name": "python",
   "nbconvert_exporter": "python",
   "pygments_lexer": "ipython3",
   "version": "3.6.4"
  }
 },
 "nbformat": 4,
 "nbformat_minor": 2
}
