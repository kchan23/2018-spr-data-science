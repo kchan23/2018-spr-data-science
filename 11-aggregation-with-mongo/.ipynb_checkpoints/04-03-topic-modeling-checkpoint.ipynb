{
 "cells": [
  {
   "cell_type": "code",
   "execution_count": 1,
   "metadata": {},
   "outputs": [],
   "source": [
    "import pandas as pd\n",
    "from pymongo import MongoClient\n",
    "import random\n",
    "\n",
    "from mongo_aggregation_verbs import *\n",
    "\n",
    "mongo_client = MongoClient('18.236.138.158', 27016)\n",
    "database_reference = mongo_client.twitter"
   ]
  },
  {
   "cell_type": "code",
   "execution_count": 2,
   "metadata": {},
   "outputs": [],
   "source": [
    "database_reference.collection_names()\n",
    "\n",
    "collection_reference = database_reference.instructor_test_group\n",
    "\n",
    "test_group = database_reference.instructor_test_group"
   ]
  },
  {
   "cell_type": "code",
   "execution_count": 3,
   "metadata": {},
   "outputs": [
    {
     "data": {
      "text/plain": [
       "[{'text': 11121}]"
      ]
     },
     "execution_count": 3,
     "metadata": {},
     "output_type": "execute_result"
    }
   ],
   "source": [
    "match_empty_url_arrays = { MATCH : { \"entities.urls\" : [] } }\n",
    "\n",
    "list(test_group.aggregate(\n",
    "    [\n",
    "        match_empty_url_arrays,\n",
    "        { COUNT : \"text\" }\n",
    "    ]\n",
    "))"
   ]
  },
  {
   "cell_type": "code",
   "execution_count": 4,
   "metadata": {},
   "outputs": [
    {
     "data": {
      "text/plain": [
       "([{'_id': ObjectId('5a73683636dd5f00016c7fad')},\n",
       "  {'_id': ObjectId('5a73683636dd5f00016c7fad')},\n",
       "  {'_id': ObjectId('5a73683636dd5f00016c7fad')},\n",
       "  {'_id': ObjectId('5a73683636dd5f00016c7fad')},\n",
       "  {'_id': ObjectId('5a73683636dd5f00016c7fad')},\n",
       "  {'_id': ObjectId('5a6da1bd36dd5f0001690696')},\n",
       "  {'_id': ObjectId('5a6da1bd36dd5f0001690696')},\n",
       "  {'_id': ObjectId('5a6da1bd36dd5f0001690696')},\n",
       "  {'_id': ObjectId('5a6df39136dd5f0001691533')},\n",
       "  {'_id': ObjectId('5a6df39136dd5f0001691533')}],\n",
       " 1835)"
      ]
     },
     "execution_count": 4,
     "metadata": {},
     "output_type": "execute_result"
    }
   ],
   "source": [
    "job_hashtags = ['job', 'jobs', 'hiring', 'careerarc']\n",
    "location_hashtags = ['california', 'losangeles', 'la', 'santamonica', 'glendale', 'paloalto']\n",
    "match_not_in_bad = { MATCH : { \"text\" : { \"$in\" : job_hashtags + location_hashtags } } }\n",
    "project_to_text_keep_id = { PROJECT : { \"text\" : \"$entities.hashtags.text\" } }\n",
    "project_to_id = { PROJECT : { \"_id\" : 1 } }\n",
    "\n",
    "bad_ids = list(test_group.aggregate(\n",
    "    [\n",
    "        match_non_empty_hashtag_arrays,\n",
    "        project_to_text_keep_id,\n",
    "        unwind_text,\n",
    "        project_to_lower,\n",
    "        match_not_in_bad,\n",
    "        project_to_id\n",
    "    ]\n",
    "))\n",
    "bad_ids[:10], len(bad_ids)"
   ]
  },
  {
   "cell_type": "code",
   "execution_count": 5,
   "metadata": {},
   "outputs": [
    {
     "data": {
      "text/plain": [
       "[ObjectId('5a73683636dd5f00016c7fad'),\n",
       " ObjectId('5a73683636dd5f00016c7fad'),\n",
       " ObjectId('5a73683636dd5f00016c7fad'),\n",
       " ObjectId('5a73683636dd5f00016c7fad'),\n",
       " ObjectId('5a73683636dd5f00016c7fad'),\n",
       " ObjectId('5a6da1bd36dd5f0001690696'),\n",
       " ObjectId('5a6da1bd36dd5f0001690696'),\n",
       " ObjectId('5a6da1bd36dd5f0001690696'),\n",
       " ObjectId('5a6df39136dd5f0001691533'),\n",
       " ObjectId('5a6df39136dd5f0001691533')]"
      ]
     },
     "execution_count": 5,
     "metadata": {},
     "output_type": "execute_result"
    }
   ],
   "source": [
    "bad_ids = [bad_id['_id'] for bad_id in bad_ids]\n",
    "bad_ids[:10]"
   ]
  },
  {
   "cell_type": "code",
   "execution_count": 6,
   "metadata": {},
   "outputs": [],
   "source": [
    "not_in_bad_ids = { \"$nin\" : bad_ids }"
   ]
  },
  {
   "cell_type": "code",
   "execution_count": 7,
   "metadata": {},
   "outputs": [],
   "source": [
    "not_in_bad_ids_and_no_url = { \n",
    "    \"_id\"           : not_in_bad_ids, \n",
    "    \"entities.urls\" : []\n",
    "}\n",
    "\n",
    "just_the_text = {\n",
    "    \"text\" : 1,\n",
    "    \"_id\"  : 0\n",
    "}"
   ]
  },
  {
   "cell_type": "code",
   "execution_count": 8,
   "metadata": {},
   "outputs": [
    {
     "data": {
      "text/plain": [
       "{'text': \"@SincerelyLegit Lol why at night? If it's boring I'll fall asleep\"}"
      ]
     },
     "execution_count": 8,
     "metadata": {},
     "output_type": "execute_result"
    }
   ],
   "source": [
    "test_group.find_one(\n",
    "    not_in_bad_ids_and_no_url,\n",
    "    just_the_text\n",
    ")"
   ]
  },
  {
   "cell_type": "code",
   "execution_count": 9,
   "metadata": {},
   "outputs": [],
   "source": [
    "cur  = test_group.find(\n",
    "    not_in_bad_ids_and_no_url,\n",
    "    just_the_text\n",
    ")\n",
    "\n",
    "tweets = list(cur)\n",
    "tweet_text = pd.DataFrame(tweets)"
   ]
  },
  {
   "cell_type": "code",
   "execution_count": 10,
   "metadata": {},
   "outputs": [
    {
     "data": {
      "text/plain": [
       "11102"
      ]
     },
     "execution_count": 10,
     "metadata": {},
     "output_type": "execute_result"
    }
   ],
   "source": [
    "len(tweet_text)"
   ]
  },
  {
   "cell_type": "code",
   "execution_count": 11,
   "metadata": {},
   "outputs": [
    {
     "data": {
      "text/html": [
       "<div>\n",
       "<table border=\"1\" class=\"dataframe\">\n",
       "  <thead>\n",
       "    <tr style=\"text-align: right;\">\n",
       "      <th></th>\n",
       "      <th>text</th>\n",
       "    </tr>\n",
       "  </thead>\n",
       "  <tbody>\n",
       "    <tr>\n",
       "      <th>0</th>\n",
       "      <td>@SincerelyLegit Lol why at night? If it's bori...</td>\n",
       "    </tr>\n",
       "    <tr>\n",
       "      <th>1</th>\n",
       "      <td>@godtributes Lol</td>\n",
       "    </tr>\n",
       "    <tr>\n",
       "      <th>2</th>\n",
       "      <td>@KingBeyonceStan I need to binge on both now b...</td>\n",
       "    </tr>\n",
       "    <tr>\n",
       "      <th>3</th>\n",
       "      <td>@_QUEENSharnay Naw I’d i can’t put this skip o...</td>\n",
       "    </tr>\n",
       "    <tr>\n",
       "      <th>4</th>\n",
       "      <td>@sannicolaso I have things to do at home but y...</td>\n",
       "    </tr>\n",
       "  </tbody>\n",
       "</table>\n",
       "</div>"
      ],
      "text/plain": [
       "                                                text\n",
       "0  @SincerelyLegit Lol why at night? If it's bori...\n",
       "1                                   @godtributes Lol\n",
       "2  @KingBeyonceStan I need to binge on both now b...\n",
       "3  @_QUEENSharnay Naw I’d i can’t put this skip o...\n",
       "4  @sannicolaso I have things to do at home but y..."
      ]
     },
     "execution_count": 11,
     "metadata": {},
     "output_type": "execute_result"
    }
   ],
   "source": [
    "tweet_text.head()"
   ]
  },
  {
   "cell_type": "code",
   "execution_count": 12,
   "metadata": {
    "scrolled": true
   },
   "outputs": [],
   "source": [
    "tweet_text.text = tweet_text.text.str.replace('http\\S+|www.\\S+', '', case=False)"
   ]
  },
  {
   "cell_type": "code",
   "execution_count": 13,
   "metadata": {},
   "outputs": [],
   "source": [
    "from sklearn.feature_extraction.text import TfidfVectorizer"
   ]
  },
  {
   "cell_type": "code",
   "execution_count": 14,
   "metadata": {},
   "outputs": [],
   "source": [
    "tfidf = TfidfVectorizer(stop_words='english')\n",
    "tfidf.fit(tweet_text.text)\n",
    "word_occurence = tfidf.transform(tweet_text.text).todense()"
   ]
  },
  {
   "cell_type": "code",
   "execution_count": 15,
   "metadata": {},
   "outputs": [
    {
     "data": {
      "text/html": [
       "<div>\n",
       "<table border=\"1\" class=\"dataframe\">\n",
       "  <thead>\n",
       "    <tr style=\"text-align: right;\">\n",
       "      <th></th>\n",
       "      <th>gkids</th>\n",
       "      <th>curry</th>\n",
       "      <th>october</th>\n",
       "      <th>purrr</th>\n",
       "      <th>pooped</th>\n",
       "      <th>ijustine</th>\n",
       "      <th>прилетела</th>\n",
       "      <th>بود</th>\n",
       "      <th>eddieg__</th>\n",
       "      <th>acrylics</th>\n",
       "      <th>griffith</th>\n",
       "      <th>superjanella</th>\n",
       "      <th>johnathon</th>\n",
       "      <th>asking</th>\n",
       "      <th>sounded</th>\n",
       "      <th>comic</th>\n",
       "      <th>problem</th>\n",
       "      <th>fishkill</th>\n",
       "      <th>accepts</th>\n",
       "      <th>dylanxgeick</th>\n",
       "    </tr>\n",
       "  </thead>\n",
       "  <tbody>\n",
       "    <tr>\n",
       "      <th>0</th>\n",
       "      <td>0.0</td>\n",
       "      <td>0.0</td>\n",
       "      <td>0.0</td>\n",
       "      <td>0.0</td>\n",
       "      <td>0.0</td>\n",
       "      <td>0.0</td>\n",
       "      <td>0.0</td>\n",
       "      <td>0.0</td>\n",
       "      <td>0.0</td>\n",
       "      <td>0.0</td>\n",
       "      <td>0.0</td>\n",
       "      <td>0.0</td>\n",
       "      <td>0.0</td>\n",
       "      <td>0.0</td>\n",
       "      <td>0.0</td>\n",
       "      <td>0.0</td>\n",
       "      <td>0.0</td>\n",
       "      <td>0.0</td>\n",
       "      <td>0.0</td>\n",
       "      <td>0.0</td>\n",
       "    </tr>\n",
       "    <tr>\n",
       "      <th>1</th>\n",
       "      <td>0.0</td>\n",
       "      <td>0.0</td>\n",
       "      <td>0.0</td>\n",
       "      <td>0.0</td>\n",
       "      <td>0.0</td>\n",
       "      <td>0.0</td>\n",
       "      <td>0.0</td>\n",
       "      <td>0.0</td>\n",
       "      <td>0.0</td>\n",
       "      <td>0.0</td>\n",
       "      <td>0.0</td>\n",
       "      <td>0.0</td>\n",
       "      <td>0.0</td>\n",
       "      <td>0.0</td>\n",
       "      <td>0.0</td>\n",
       "      <td>0.0</td>\n",
       "      <td>0.0</td>\n",
       "      <td>0.0</td>\n",
       "      <td>0.0</td>\n",
       "      <td>0.0</td>\n",
       "    </tr>\n",
       "    <tr>\n",
       "      <th>2</th>\n",
       "      <td>0.0</td>\n",
       "      <td>0.0</td>\n",
       "      <td>0.0</td>\n",
       "      <td>0.0</td>\n",
       "      <td>0.0</td>\n",
       "      <td>0.0</td>\n",
       "      <td>0.0</td>\n",
       "      <td>0.0</td>\n",
       "      <td>0.0</td>\n",
       "      <td>0.0</td>\n",
       "      <td>0.0</td>\n",
       "      <td>0.0</td>\n",
       "      <td>0.0</td>\n",
       "      <td>0.0</td>\n",
       "      <td>0.0</td>\n",
       "      <td>0.0</td>\n",
       "      <td>0.0</td>\n",
       "      <td>0.0</td>\n",
       "      <td>0.0</td>\n",
       "      <td>0.0</td>\n",
       "    </tr>\n",
       "    <tr>\n",
       "      <th>3</th>\n",
       "      <td>0.0</td>\n",
       "      <td>0.0</td>\n",
       "      <td>0.0</td>\n",
       "      <td>0.0</td>\n",
       "      <td>0.0</td>\n",
       "      <td>0.0</td>\n",
       "      <td>0.0</td>\n",
       "      <td>0.0</td>\n",
       "      <td>0.0</td>\n",
       "      <td>0.0</td>\n",
       "      <td>0.0</td>\n",
       "      <td>0.0</td>\n",
       "      <td>0.0</td>\n",
       "      <td>0.0</td>\n",
       "      <td>0.0</td>\n",
       "      <td>0.0</td>\n",
       "      <td>0.0</td>\n",
       "      <td>0.0</td>\n",
       "      <td>0.0</td>\n",
       "      <td>0.0</td>\n",
       "    </tr>\n",
       "    <tr>\n",
       "      <th>4</th>\n",
       "      <td>0.0</td>\n",
       "      <td>0.0</td>\n",
       "      <td>0.0</td>\n",
       "      <td>0.0</td>\n",
       "      <td>0.0</td>\n",
       "      <td>0.0</td>\n",
       "      <td>0.0</td>\n",
       "      <td>0.0</td>\n",
       "      <td>0.0</td>\n",
       "      <td>0.0</td>\n",
       "      <td>0.0</td>\n",
       "      <td>0.0</td>\n",
       "      <td>0.0</td>\n",
       "      <td>0.0</td>\n",
       "      <td>0.0</td>\n",
       "      <td>0.0</td>\n",
       "      <td>0.0</td>\n",
       "      <td>0.0</td>\n",
       "      <td>0.0</td>\n",
       "      <td>0.0</td>\n",
       "    </tr>\n",
       "  </tbody>\n",
       "</table>\n",
       "</div>"
      ],
      "text/plain": [
       "   gkids  curry  october  purrr  pooped  ijustine  прилетела  بود  eddieg__  \\\n",
       "0    0.0    0.0      0.0    0.0     0.0       0.0        0.0  0.0       0.0   \n",
       "1    0.0    0.0      0.0    0.0     0.0       0.0        0.0  0.0       0.0   \n",
       "2    0.0    0.0      0.0    0.0     0.0       0.0        0.0  0.0       0.0   \n",
       "3    0.0    0.0      0.0    0.0     0.0       0.0        0.0  0.0       0.0   \n",
       "4    0.0    0.0      0.0    0.0     0.0       0.0        0.0  0.0       0.0   \n",
       "\n",
       "   acrylics  griffith  superjanella  johnathon  asking  sounded  comic  \\\n",
       "0       0.0       0.0           0.0        0.0     0.0      0.0    0.0   \n",
       "1       0.0       0.0           0.0        0.0     0.0      0.0    0.0   \n",
       "2       0.0       0.0           0.0        0.0     0.0      0.0    0.0   \n",
       "3       0.0       0.0           0.0        0.0     0.0      0.0    0.0   \n",
       "4       0.0       0.0           0.0        0.0     0.0      0.0    0.0   \n",
       "\n",
       "   problem  fishkill  accepts  dylanxgeick  \n",
       "0      0.0       0.0      0.0          0.0  \n",
       "1      0.0       0.0      0.0          0.0  \n",
       "2      0.0       0.0      0.0          0.0  \n",
       "3      0.0       0.0      0.0          0.0  \n",
       "4      0.0       0.0      0.0          0.0  "
      ]
     },
     "execution_count": 15,
     "metadata": {},
     "output_type": "execute_result"
    }
   ],
   "source": [
    "words = tfidf.get_feature_names()\n",
    "word_sample = random.sample(words, 20)\n",
    "word_occurence_m = pd.DataFrame(word_occurence, columns=words)\n",
    "word_occurence_m[word_sample].head()"
   ]
  },
  {
   "cell_type": "code",
   "execution_count": 16,
   "metadata": {},
   "outputs": [],
   "source": [
    "from sklearn.decomposition import LatentDirichletAllocation"
   ]
  },
  {
   "cell_type": "code",
   "execution_count": 17,
   "metadata": {},
   "outputs": [
    {
     "name": "stderr",
     "output_type": "stream",
     "text": [
      "/opt/conda/lib/python3.6/site-packages/sklearn/decomposition/online_lda.py:294: DeprecationWarning: n_topics has been renamed to n_components in version 0.19 and will be removed in 0.21\n",
      "  DeprecationWarning)\n"
     ]
    },
    {
     "data": {
      "text/plain": [
       "LatentDirichletAllocation(batch_size=128, doc_topic_prior=None,\n",
       "             evaluate_every=-1, learning_decay=0.7,\n",
       "             learning_method='batch', learning_offset=10.0,\n",
       "             max_doc_update_iter=100, max_iter=10, mean_change_tol=0.001,\n",
       "             n_components=10, n_jobs=1, n_topics=10, perp_tol=0.1,\n",
       "             random_state=None, topic_word_prior=None,\n",
       "             total_samples=1000000.0, verbose=0)"
      ]
     },
     "execution_count": 17,
     "metadata": {},
     "output_type": "execute_result"
    }
   ],
   "source": [
    "lda = LatentDirichletAllocation(n_topics=10, learning_method='batch')\n",
    "lda.fit(word_occurence)"
   ]
  },
  {
   "cell_type": "code",
   "execution_count": 18,
   "metadata": {},
   "outputs": [],
   "source": [
    "lda_df = pd.DataFrame(lda.components_, columns=words).T"
   ]
  },
  {
   "cell_type": "code",
   "execution_count": 19,
   "metadata": {},
   "outputs": [],
   "source": [
    "def filter_topic(lda_df, index, threshold):\n",
    "    return (lda_df[lda_df[index] > threshold][index]\n",
    "            .sort_values(ascending=False))"
   ]
  },
  {
   "cell_type": "code",
   "execution_count": 20,
   "metadata": {},
   "outputs": [
    {
     "data": {
      "text/plain": [
       "got     13.484751\n",
       "just    10.199426\n",
       "Name: 0, dtype: float64"
      ]
     },
     "execution_count": 20,
     "metadata": {},
     "output_type": "execute_result"
    }
   ],
   "source": [
    "filter_topic(lda_df, 0, 10)"
   ]
  },
  {
   "cell_type": "code",
   "execution_count": 21,
   "metadata": {},
   "outputs": [
    {
     "data": {
      "text/plain": [
       "love     25.632421\n",
       "like     19.560264\n",
       "wanna    12.993513\n",
       "thank    11.043631\n",
       "Name: 1, dtype: float64"
      ]
     },
     "execution_count": 21,
     "metadata": {},
     "output_type": "execute_result"
    }
   ],
   "source": [
    "filter_topic(lda_df, 1, 10)"
   ]
  },
  {
   "cell_type": "code",
   "execution_count": 22,
   "metadata": {},
   "outputs": [
    {
     "data": {
      "text/plain": [
       "god    10.997544\n",
       "Name: 2, dtype: float64"
      ]
     },
     "execution_count": 22,
     "metadata": {},
     "output_type": "execute_result"
    }
   ],
   "source": [
    "filter_topic(lda_df, 2, 10)"
   ]
  },
  {
   "cell_type": "code",
   "execution_count": 23,
   "metadata": {},
   "outputs": [
    {
     "data": {
      "text/plain": [
       "good    23.568279\n",
       "just    22.689027\n",
       "like    18.980344\n",
       "lol     13.840254\n",
       "need    12.848446\n",
       "know    12.386194\n",
       "don     12.296953\n",
       "feel    11.848260\n",
       "Name: 3, dtype: float64"
      ]
     },
     "execution_count": 23,
     "metadata": {},
     "output_type": "execute_result"
    }
   ],
   "source": [
    "filter_topic(lda_df, 3, 10)"
   ]
  },
  {
   "cell_type": "code",
   "execution_count": 24,
   "metadata": {},
   "outputs": [
    {
     "data": {
      "text/plain": [
       "mood      19.751412\n",
       "like      17.458468\n",
       "shit      16.806997\n",
       "don       16.527893\n",
       "tell      13.851655\n",
       "love      13.113227\n",
       "lmao      12.986063\n",
       "bitch     12.952206\n",
       "ain       12.280120\n",
       "just      11.829047\n",
       "people    10.855783\n",
       "really    10.655499\n",
       "la        10.448887\n",
       "lol       10.100307\n",
       "Name: 4, dtype: float64"
      ]
     },
     "execution_count": 24,
     "metadata": {},
     "output_type": "execute_result"
    }
   ],
   "source": [
    "filter_topic(lda_df, 4, 10)"
   ]
  },
  {
   "cell_type": "code",
   "execution_count": 25,
   "metadata": {},
   "outputs": [
    {
     "data": {
      "text/plain": [
       "just    12.737602\n",
       "day     12.228986\n",
       "Name: 5, dtype: float64"
      ]
     },
     "execution_count": 25,
     "metadata": {},
     "output_type": "execute_result"
    }
   ],
   "source": [
    "filter_topic(lda_df, 5, 10)"
   ]
  },
  {
   "cell_type": "code",
   "execution_count": 26,
   "metadata": {},
   "outputs": [
    {
     "data": {
      "text/plain": [
       "just         12.518065\n",
       "time         11.344469\n",
       "today         9.958814\n",
       "let           9.664789\n",
       "sick          8.415636\n",
       "goodnight     7.701445\n",
       "did           7.650852\n",
       "fuck          7.174888\n",
       "oh            6.404382\n",
       "gonna         6.372976\n",
       "like          6.328246\n",
       "ve            6.040279\n",
       "Name: 6, dtype: float64"
      ]
     },
     "execution_count": 26,
     "metadata": {},
     "output_type": "execute_result"
    }
   ],
   "source": [
    "filter_topic(lda_df, 6, 6)"
   ]
  },
  {
   "cell_type": "code",
   "execution_count": 27,
   "metadata": {},
   "outputs": [
    {
     "data": {
      "text/plain": [
       "realdonaldtrump    26.950140\n",
       "fuck               15.390053\n",
       "just               12.659350\n",
       "ok                 10.168678\n",
       "miss               10.007836\n",
       "thank               9.512851\n",
       "lol                 9.458856\n",
       "don                 9.399344\n",
       "know                9.272409\n",
       "got                 8.942858\n",
       "shit                8.454909\n",
       "like                8.193587\n",
       "Name: 7, dtype: float64"
      ]
     },
     "execution_count": 27,
     "metadata": {},
     "output_type": "execute_result"
    }
   ],
   "source": [
    "filter_topic(lda_df, 7, 7)"
   ]
  },
  {
   "cell_type": "code",
   "execution_count": 28,
   "metadata": {},
   "outputs": [
    {
     "data": {
      "text/plain": [
       "love      16.295547\n",
       "sleep     14.787969\n",
       "just      13.932566\n",
       "like      12.765349\n",
       "money     12.255125\n",
       "really    12.041623\n",
       "don       11.571354\n",
       "wow       11.366378\n",
       "game      10.555745\n",
       "im        10.228838\n",
       "know       8.300734\n",
       "good       8.242944\n",
       "going      8.232269\n",
       "want       8.121570\n",
       "buy        8.111260\n",
       "lol        8.081380\n",
       "guys       7.835152\n",
       "talk       7.534680\n",
       "day        7.483266\n",
       "having     7.078854\n",
       "Name: 8, dtype: float64"
      ]
     },
     "execution_count": 28,
     "metadata": {},
     "output_type": "execute_result"
    }
   ],
   "source": [
    "filter_topic(lda_df, 8, 7)"
   ]
  },
  {
   "cell_type": "code",
   "execution_count": 29,
   "metadata": {},
   "outputs": [
    {
     "data": {
      "text/plain": [
       "gt                 16.415036\n",
       "hi                 11.229680\n",
       "lo                 10.158167\n",
       "ca                 10.111204\n",
       "love                9.950738\n",
       "forecast            9.538436\n",
       "tonight             9.437014\n",
       "thanks              9.314583\n",
       "need                8.596261\n",
       "amp                 8.326719\n",
       "like                8.220146\n",
       "right               8.214559\n",
       "omg                 8.197175\n",
       "just                8.002618\n",
       "realdonaldtrump     7.831536\n",
       "come                7.329148\n",
       "jan                 7.025839\n",
       "Name: 9, dtype: float64"
      ]
     },
     "execution_count": 29,
     "metadata": {},
     "output_type": "execute_result"
    }
   ],
   "source": [
    "filter_topic(lda_df, 9, 7)"
   ]
  },
  {
   "cell_type": "code",
   "execution_count": null,
   "metadata": {},
   "outputs": [],
   "source": []
  }
 ],
 "metadata": {
  "kernelspec": {
   "display_name": "Python 3",
   "language": "python",
   "name": "python3"
  },
  "language_info": {
   "codemirror_mode": {
    "name": "ipython",
    "version": 3
   },
   "file_extension": ".py",
   "mimetype": "text/x-python",
   "name": "python",
   "nbconvert_exporter": "python",
   "pygments_lexer": "ipython3",
   "version": "3.6.4"
  }
 },
 "nbformat": 4,
 "nbformat_minor": 2
}
