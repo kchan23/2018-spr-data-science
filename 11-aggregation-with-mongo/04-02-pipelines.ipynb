{
 "cells": [
  {
   "cell_type": "code",
   "execution_count": 1,
   "metadata": {},
   "outputs": [],
   "source": [
    "# !pip install pymongo"
   ]
  },
  {
   "cell_type": "code",
   "execution_count": 2,
   "metadata": {},
   "outputs": [],
   "source": [
    "from pymongo import MongoClient"
   ]
  },
  {
   "cell_type": "code",
   "execution_count": 3,
   "metadata": {},
   "outputs": [],
   "source": [
    "matplotlib inline"
   ]
  },
  {
   "cell_type": "code",
   "execution_count": 4,
   "metadata": {},
   "outputs": [],
   "source": [
    "mongo_client = MongoClient('18.236.138.158', 27016)\n",
    "database_reference = mongo_client.twitter"
   ]
  },
  {
   "cell_type": "code",
   "execution_count": 5,
   "metadata": {},
   "outputs": [],
   "source": [
    "collection_reference = database_reference.instructor_test_group"
   ]
  },
  {
   "cell_type": "code",
   "execution_count": 6,
   "metadata": {},
   "outputs": [
    {
     "data": {
      "text/plain": [
       "20000"
      ]
     },
     "execution_count": 6,
     "metadata": {},
     "output_type": "execute_result"
    }
   ],
   "source": [
    "collection_reference.count()"
   ]
  },
  {
   "cell_type": "code",
   "execution_count": 7,
   "metadata": {},
   "outputs": [],
   "source": [
    "cursor_sampl = collection_reference.aggregate([{'$sample': {'size': 20}}])"
   ]
  },
  {
   "cell_type": "code",
   "execution_count": 8,
   "metadata": {},
   "outputs": [
    {
     "data": {
      "text/plain": [
       "20"
      ]
     },
     "execution_count": 8,
     "metadata": {},
     "output_type": "execute_result"
    }
   ],
   "source": [
    "len(list(cursor_sampl)) "
   ]
  },
  {
   "cell_type": "markdown",
   "metadata": {},
   "source": [
    "| | | | | |\n",
    "|-|-|-|-|-|\n",
    "| `_id`        | `truncated`                 |`user`            |`extended_tweet` | `favorited`                   |\n",
    "| `created_at` | `in_reply_to_status_id`     |`geo`             |`quote_count`    | `retweeted`                   |\n",
    "| `id`         | `in_reply_to_status_id_str` |`coordinates`     |`reply_count`    | `filter_level`                |\n",
    "| `id_str`     | `in_reply_to_user_id`       |`place`           |`retweet_count`  | `lang`                        |\n",
    "| `text`       | `in_reply_to_user_id_str`   |`contributors`    |`favorite_count` | `timestamp_ms`                |\n",
    "| `source`     | `in_reply_to_screen_name`   |`is_quote_status` |`entities`       |                               |\n",
    "\n",
    "\n",
    "\n",
    "\n",
    "\n",
    "\n",
    "\n",
    "\n",
    "\n",
    "\n",
    "\n",
    "\n",
    "\n",
    "\n",
    "\n",
    "\n",
    "\n",
    "\n",
    "\n",
    "\n",
    "\n",
    "\n"
   ]
  },
  {
   "cell_type": "markdown",
   "metadata": {},
   "source": [
    "![](https://www.evernote.com/l/AAEO7gpKcKdI5YJeGrni4GhdlBiBWdTa3YgB/image.png)"
   ]
  },
  {
   "cell_type": "markdown",
   "metadata": {},
   "source": [
    "![](https://i.imgflip.com/245tp9.jpg)"
   ]
  },
  {
   "cell_type": "markdown",
   "metadata": {},
   "source": [
    "## The Aggregation Pipeline\n",
    "\n",
    "A call to the aggregation framework defines a pipeline (figure 6.1), the **aggregation pipeline**, where the output from each step in the pipeline provides input to the next step. Each step executes a single operation on the input documents to transform the input and generate output documents."
   ]
  },
  {
   "cell_type": "markdown",
   "metadata": {},
   "source": [
    "![](https://www.evernote.com/l/AAGxerRxKLZNFrjqxlYK2HPz1R11tr95FFkB/image.png)"
   ]
  },
  {
   "cell_type": "markdown",
   "metadata": {},
   "source": [
    "### Useful Aggregation Pipeline Operations"
   ]
  },
  {
   "cell_type": "markdown",
   "metadata": {},
   "source": [
    "- `$project` // Specify fields to be placed in the output document.\n",
    "- `$match` // Select documents to be processed, similar to find().\n",
    "- `$limit` // Limit the number of documents to be passed to the next step.\n",
    "- `$skip` // Skip a specified number of documents.\n",
    "- `$unwind` // Expand an array, generating one output document for each array entry.\n",
    "- `$group` // Group documents by a specified key.\n",
    "- `$sort` // Sort documents.\n",
    "- `$geoNear` // Select documents near a geospatial location.\n",
    "- `$out` // Write the results of the pipeline to a collection (new in v2.6).\n",
    "- `$redact` // Control access to certain data (new in v2.6)."
   ]
  },
  {
   "cell_type": "code",
   "execution_count": 9,
   "metadata": {},
   "outputs": [],
   "source": [
    "PROJECT = \"$project\"\n",
    "MATCH = \"$match\"\n",
    "LIMIT = \"$limit\"\n",
    "UNWIND = \"$unwind\"\n",
    "GROUP = \"$group\"\n",
    "SORT = \"$sort\"\n",
    "COUNT = \"$count\""
   ]
  },
  {
   "cell_type": "code",
   "execution_count": 10,
   "metadata": {},
   "outputs": [],
   "source": [
    "test_group = database_reference.instructor_test_group"
   ]
  },
  {
   "cell_type": "code",
   "execution_count": 11,
   "metadata": {},
   "outputs": [],
   "source": [
    "not_empty = { \"$ne\" : None }\n",
    "\n",
    "cursor = test_group.aggregate([\n",
    "    { MATCH : { \"geo\" : not_empty }},\n",
    "    { COUNT : \"geo\"}\n",
    "])"
   ]
  },
  {
   "cell_type": "code",
   "execution_count": 12,
   "metadata": {},
   "outputs": [
    {
     "data": {
      "text/plain": [
       "{'geo': 2952}"
      ]
     },
     "execution_count": 12,
     "metadata": {},
     "output_type": "execute_result"
    }
   ],
   "source": [
    "next(cursor)"
   ]
  },
  {
   "cell_type": "code",
   "execution_count": 13,
   "metadata": {},
   "outputs": [],
   "source": [
    "match_non_null_geo = { MATCH : { \"geo\" : not_empty }}\n",
    "count_geo = { COUNT : \"geo\"}\n",
    "\n",
    "dag_count_non_null_geo = [\n",
    "    match_non_null_geo,\n",
    "    count_geo\n",
    "]"
   ]
  },
  {
   "cell_type": "code",
   "execution_count": 14,
   "metadata": {},
   "outputs": [
    {
     "data": {
      "text/plain": [
       "{'geo': 2952}"
      ]
     },
     "execution_count": 14,
     "metadata": {},
     "output_type": "execute_result"
    }
   ],
   "source": [
    "next(test_group.aggregate(dag_count_non_null_geo))"
   ]
  },
  {
   "cell_type": "markdown",
   "metadata": {},
   "source": [
    "### Group Template\n",
    "\n",
    "    { $group: { _id: <expression>, <field1>: { <accumulator1> : <expression1> }, ... } }\n",
    "    \n",
    "#### Accumulators\n",
    "\n",
    "- `$sum`\n",
    "- `$avg`\n",
    "- `$first`\n",
    "- `$last`\n",
    "- `$max`\n",
    "- `$min`\n",
    "- `$stdDevPop`\n",
    "- `$stdDevSamp`"
   ]
  },
  {
   "cell_type": "code",
   "execution_count": 15,
   "metadata": {},
   "outputs": [],
   "source": [
    "greater_than_10 = { \"$gt\" : 10 }\n",
    "sum_1 = { \"$sum\" : 1 }\n",
    "\n",
    "def group_and_count(key):\n",
    "    return { GROUP : {\n",
    "                 \"_id\"   : key,\n",
    "                 \"count\" : sum_1\n",
    "                }\n",
    "           }\n",
    "\n",
    "match_count_gt = { MATCH : { \"count\" : greater_than_10 } }\n",
    "\n",
    "sort_by_count_descending = { SORT : { \"count\" : -1 } }\n",
    "\n",
    "def limit(val):\n",
    "    return { LIMIT : val }"
   ]
  },
  {
   "cell_type": "code",
   "execution_count": 16,
   "metadata": {},
   "outputs": [
    {
     "data": {
      "text/plain": [
       "[{'_id': 'en', 'count': 16996},\n",
       " {'_id': 'und', 'count': 1815},\n",
       " {'_id': 'es', 'count': 295},\n",
       " {'_id': 'tl', 'count': 126},\n",
       " {'_id': 'fr', 'count': 121},\n",
       " {'_id': 'pt', 'count': 76},\n",
       " {'_id': 'ht', 'count': 66},\n",
       " {'_id': 'ja', 'count': 61},\n",
       " {'_id': 'ar', 'count': 49},\n",
       " {'_id': 'it', 'count': 48}]"
      ]
     },
     "execution_count": 16,
     "metadata": {},
     "output_type": "execute_result"
    }
   ],
   "source": [
    "list(test_group.aggregate(\n",
    "    [\n",
    "        group_and_count('$lang'),\n",
    "        match_count_gt, \n",
    "        sort_by_count_descending,\n",
    "        limit(10)\n",
    "    ]\n",
    "))\n"
   ]
  },
  {
   "cell_type": "code",
   "execution_count": 22,
   "metadata": {
    "scrolled": false
   },
   "outputs": [
    {
     "ename": "OperationFailure",
     "evalue": "path option to $unwind stage should be prefixed with a '$': text",
     "output_type": "error",
     "traceback": [
      "\u001b[0;31m---------------------------------------------------------------------------\u001b[0m",
      "\u001b[0;31mOperationFailure\u001b[0m                          Traceback (most recent call last)",
      "\u001b[0;32m<ipython-input-22-a0ba8c514b90>\u001b[0m in \u001b[0;36m<module>\u001b[0;34m()\u001b[0m\n\u001b[1;32m      9\u001b[0m         \u001b[0mproject_to_text_only\u001b[0m\u001b[0;34m,\u001b[0m\u001b[0;34m\u001b[0m\u001b[0m\n\u001b[1;32m     10\u001b[0m         \u001b[0munwind_text\u001b[0m\u001b[0;34m,\u001b[0m\u001b[0;34m\u001b[0m\u001b[0m\n\u001b[0;32m---> 11\u001b[0;31m         \u001b[0mlimit\u001b[0m\u001b[0;34m(\u001b[0m\u001b[0;36m10\u001b[0m\u001b[0;34m)\u001b[0m\u001b[0;34m\u001b[0m\u001b[0m\n\u001b[0m\u001b[1;32m     12\u001b[0m     ]\n\u001b[1;32m     13\u001b[0m ))\n",
      "\u001b[0;32m/opt/conda/lib/python3.6/site-packages/pymongo/collection.py\u001b[0m in \u001b[0;36maggregate\u001b[0;34m(self, pipeline, session, **kwargs)\u001b[0m\n\u001b[1;32m   2183\u001b[0m                                    \u001b[0msession\u001b[0m\u001b[0;34m=\u001b[0m\u001b[0ms\u001b[0m\u001b[0;34m,\u001b[0m\u001b[0;34m\u001b[0m\u001b[0m\n\u001b[1;32m   2184\u001b[0m                                    \u001b[0mexplicit_session\u001b[0m\u001b[0;34m=\u001b[0m\u001b[0msession\u001b[0m \u001b[0;32mis\u001b[0m \u001b[0;32mnot\u001b[0m \u001b[0;32mNone\u001b[0m\u001b[0;34m,\u001b[0m\u001b[0;34m\u001b[0m\u001b[0m\n\u001b[0;32m-> 2185\u001b[0;31m                                    **kwargs)\n\u001b[0m\u001b[1;32m   2186\u001b[0m \u001b[0;34m\u001b[0m\u001b[0m\n\u001b[1;32m   2187\u001b[0m     \u001b[0;32mdef\u001b[0m \u001b[0maggregate_raw_batches\u001b[0m\u001b[0;34m(\u001b[0m\u001b[0mself\u001b[0m\u001b[0;34m,\u001b[0m \u001b[0mpipeline\u001b[0m\u001b[0;34m,\u001b[0m \u001b[0;34m**\u001b[0m\u001b[0mkwargs\u001b[0m\u001b[0;34m)\u001b[0m\u001b[0;34m:\u001b[0m\u001b[0;34m\u001b[0m\u001b[0m\n",
      "\u001b[0;32m/opt/conda/lib/python3.6/site-packages/pymongo/collection.py\u001b[0m in \u001b[0;36m_aggregate\u001b[0;34m(self, pipeline, cursor_class, first_batch_size, session, explicit_session, **kwargs)\u001b[0m\n\u001b[1;32m   2090\u001b[0m                 \u001b[0mcollation\u001b[0m\u001b[0;34m=\u001b[0m\u001b[0mcollation\u001b[0m\u001b[0;34m,\u001b[0m\u001b[0;34m\u001b[0m\u001b[0m\n\u001b[1;32m   2091\u001b[0m                 \u001b[0msession\u001b[0m\u001b[0;34m=\u001b[0m\u001b[0msession\u001b[0m\u001b[0;34m,\u001b[0m\u001b[0;34m\u001b[0m\u001b[0m\n\u001b[0;32m-> 2092\u001b[0;31m                 client=self.__database.client)\n\u001b[0m\u001b[1;32m   2093\u001b[0m \u001b[0;34m\u001b[0m\u001b[0m\n\u001b[1;32m   2094\u001b[0m             \u001b[0;32mif\u001b[0m \u001b[0;34m\"cursor\"\u001b[0m \u001b[0;32min\u001b[0m \u001b[0mresult\u001b[0m\u001b[0;34m:\u001b[0m\u001b[0;34m\u001b[0m\u001b[0m\n",
      "\u001b[0;32m/opt/conda/lib/python3.6/site-packages/pymongo/pool.py\u001b[0m in \u001b[0;36mcommand\u001b[0;34m(self, dbname, spec, slave_ok, read_preference, codec_options, check, allowable_errors, check_keys, read_concern, write_concern, parse_write_concern_error, collation, session, client, retryable_write, publish_events)\u001b[0m\n\u001b[1;32m    515\u001b[0m                            \u001b[0mself\u001b[0m\u001b[0;34m.\u001b[0m\u001b[0mmax_bson_size\u001b[0m\u001b[0;34m,\u001b[0m \u001b[0mread_concern\u001b[0m\u001b[0;34m,\u001b[0m\u001b[0;34m\u001b[0m\u001b[0m\n\u001b[1;32m    516\u001b[0m                            \u001b[0mparse_write_concern_error\u001b[0m\u001b[0;34m=\u001b[0m\u001b[0mparse_write_concern_error\u001b[0m\u001b[0;34m,\u001b[0m\u001b[0;34m\u001b[0m\u001b[0m\n\u001b[0;32m--> 517\u001b[0;31m                            collation=collation)\n\u001b[0m\u001b[1;32m    518\u001b[0m         \u001b[0;32mexcept\u001b[0m \u001b[0mOperationFailure\u001b[0m\u001b[0;34m:\u001b[0m\u001b[0;34m\u001b[0m\u001b[0m\n\u001b[1;32m    519\u001b[0m             \u001b[0;32mraise\u001b[0m\u001b[0;34m\u001b[0m\u001b[0m\n",
      "\u001b[0;32m/opt/conda/lib/python3.6/site-packages/pymongo/network.py\u001b[0m in \u001b[0;36mcommand\u001b[0;34m(sock, dbname, spec, slave_ok, is_mongos, read_preference, codec_options, session, client, check, allowable_errors, address, check_keys, listeners, max_bson_size, read_concern, parse_write_concern_error, collation)\u001b[0m\n\u001b[1;32m    123\u001b[0m             helpers._check_command_response(\n\u001b[1;32m    124\u001b[0m                 \u001b[0mresponse_doc\u001b[0m\u001b[0;34m,\u001b[0m \u001b[0;32mNone\u001b[0m\u001b[0;34m,\u001b[0m \u001b[0mallowable_errors\u001b[0m\u001b[0;34m,\u001b[0m\u001b[0;34m\u001b[0m\u001b[0m\n\u001b[0;32m--> 125\u001b[0;31m                 parse_write_concern_error=parse_write_concern_error)\n\u001b[0m\u001b[1;32m    126\u001b[0m     \u001b[0;32mexcept\u001b[0m \u001b[0mException\u001b[0m \u001b[0;32mas\u001b[0m \u001b[0mexc\u001b[0m\u001b[0;34m:\u001b[0m\u001b[0;34m\u001b[0m\u001b[0m\n\u001b[1;32m    127\u001b[0m         \u001b[0;32mif\u001b[0m \u001b[0mpublish\u001b[0m\u001b[0;34m:\u001b[0m\u001b[0;34m\u001b[0m\u001b[0m\n",
      "\u001b[0;32m/opt/conda/lib/python3.6/site-packages/pymongo/helpers.py\u001b[0m in \u001b[0;36m_check_command_response\u001b[0;34m(response, msg, allowable_errors, parse_write_concern_error)\u001b[0m\n\u001b[1;32m    143\u001b[0m \u001b[0;34m\u001b[0m\u001b[0m\n\u001b[1;32m    144\u001b[0m             \u001b[0mmsg\u001b[0m \u001b[0;34m=\u001b[0m \u001b[0mmsg\u001b[0m \u001b[0;32mor\u001b[0m \u001b[0;34m\"%s\"\u001b[0m\u001b[0;34m\u001b[0m\u001b[0m\n\u001b[0;32m--> 145\u001b[0;31m             \u001b[0;32mraise\u001b[0m \u001b[0mOperationFailure\u001b[0m\u001b[0;34m(\u001b[0m\u001b[0mmsg\u001b[0m \u001b[0;34m%\u001b[0m \u001b[0merrmsg\u001b[0m\u001b[0;34m,\u001b[0m \u001b[0mcode\u001b[0m\u001b[0;34m,\u001b[0m \u001b[0mresponse\u001b[0m\u001b[0;34m)\u001b[0m\u001b[0;34m\u001b[0m\u001b[0m\n\u001b[0m\u001b[1;32m    146\u001b[0m \u001b[0;34m\u001b[0m\u001b[0m\n\u001b[1;32m    147\u001b[0m \u001b[0;34m\u001b[0m\u001b[0m\n",
      "\u001b[0;31mOperationFailure\u001b[0m: path option to $unwind stage should be prefixed with a '$': text"
     ]
    }
   ],
   "source": [
    "not_an_empty_array = { \"$ne\" : [] }\n",
    "match_non_empty_hashtag_arrays = { MATCH : { \"entities.hashtags\" : not_an_empty_array } }\n",
    "project_to_text_only = { PROJECT : { \"text\" : \"$entities.hashtags.text\" , \"_id\" :0} }\n",
    "unwind_text = { UNWIND : \"text\" }\n",
    "\n",
    "list(test_group.aggregate(\n",
    "    [\n",
    "        match_non_empty_hashtag_arrays,\n",
    "        project_to_text_only,\n",
    "        unwind_text,\n",
    "        limit(10)\n",
    "    ]\n",
    "))\n"
   ]
  },
  {
   "cell_type": "code",
   "execution_count": 18,
   "metadata": {},
   "outputs": [
    {
     "data": {
      "text/plain": [
       "[{'_id': 'job', 'count': 395},\n",
       " {'_id': 'Hiring', 'count': 308},\n",
       " {'_id': 'LosAngeles', 'count': 286},\n",
       " {'_id': 'CareerArc', 'count': 240},\n",
       " {'_id': 'hiring', 'count': 149},\n",
       " {'_id': 'Job', 'count': 107},\n",
       " {'_id': 'Jobs', 'count': 107},\n",
       " {'_id': 'earthquake', 'count': 67},\n",
       " {'_id': 'LA', 'count': 56},\n",
       " {'_id': 'losangeles', 'count': 49}]"
      ]
     },
     "execution_count": 18,
     "metadata": {},
     "output_type": "execute_result"
    }
   ],
   "source": [
    "list(test_group.aggregate(\n",
    "    [\n",
    "        match_non_empty_hashtag_arrays,\n",
    "        project_to_text_only,\n",
    "        unwind_text,\n",
    "        group_and_count('$text'),\n",
    "        match_count_gt, \n",
    "        sort_by_count_descending,\n",
    "        limit(10)\n",
    "    ]\n",
    "))"
   ]
  },
  {
   "cell_type": "code",
   "execution_count": 19,
   "metadata": {},
   "outputs": [
    {
     "data": {
      "text/plain": [
       "[{'_id': 'earthquake', 'count': 67},\n",
       " {'_id': 'goldenglobes', 'count': 56},\n",
       " {'_id': 'quake', 'count': 46},\n",
       " {'_id': 'art', 'count': 40},\n",
       " {'_id': 'healthcare', 'count': 38},\n",
       " {'_id': 'superbowl', 'count': 28},\n",
       " {'_id': 'retail', 'count': 26},\n",
       " {'_id': 'sales', 'count': 25},\n",
       " {'_id': 'rn', 'count': 25},\n",
       " {'_id': 'marketing', 'count': 25},\n",
       " {'_id': 'gonancygo', 'count': 24},\n",
       " {'_id': 'hospitality', 'count': 23},\n",
       " {'_id': 'grammys', 'count': 22},\n",
       " {'_id': 'repost', 'count': 22},\n",
       " {'_id': 'it', 'count': 21},\n",
       " {'_id': 'releasethememo', 'count': 21},\n",
       " {'_id': 'timesup', 'count': 19},\n",
       " {'_id': 'nsng', 'count': 19},\n",
       " {'_id': 'love', 'count': 19},\n",
       " {'_id': 'clerical', 'count': 18},\n",
       " {'_id': 'businessmgmt', 'count': 17},\n",
       " {'_id': 'tv', 'count': 17},\n",
       " {'_id': 'hollywood', 'count': 16},\n",
       " {'_id': 'trumpshutdown', 'count': 16},\n",
       " {'_id': 'script', 'count': 16},\n",
       " {'_id': 'beverlyhills', 'count': 15},\n",
       " {'_id': 'dtla', 'count': 15},\n",
       " {'_id': 'comedy', 'count': 15},\n",
       " {'_id': 'actorslife', 'count': 14},\n",
       " {'_id': 'nursing', 'count': 14},\n",
       " {'_id': 'iheartawards', 'count': 14},\n",
       " {'_id': 'trump', 'count': 14},\n",
       " {'_id': 'tbt', 'count': 13},\n",
       " {'_id': 'finance', 'count': 13},\n",
       " {'_id': 'fashion', 'count': 13},\n",
       " {'_id': 'photography', 'count': 13},\n",
       " {'_id': 'music', 'count': 12},\n",
       " {'_id': 'veterans', 'count': 11},\n",
       " {'_id': 'actor', 'count': 11},\n",
       " {'_id': 'pilot', 'count': 11},\n",
       " {'_id': 'actors', 'count': 11},\n",
       " {'_id': 'smile', 'count': 11},\n",
       " {'_id': 'lincoln', 'count': 11}]"
      ]
     },
     "execution_count": 19,
     "metadata": {},
     "output_type": "execute_result"
    }
   ],
   "source": [
    "job_hashtags = ['job', 'jobs', 'hiring', 'careerarc']\n",
    "location_hashtags = ['california', 'losangeles', 'la', 'santamonica', 'glendale', 'paloalto']\n",
    "project_to_lower = { PROJECT : { \"text\" : {\"$toLower\" : \"$text\"} } }\n",
    "match_not_in_bad = { MATCH : { \"_id\" : { \"$nin\" : job_hashtags + location_hashtags}}}\n",
    "\n",
    "list(test_group.aggregate(\n",
    "    [\n",
    "        match_non_empty_hashtag_arrays,\n",
    "        project_to_text_only,\n",
    "        unwind_text,\n",
    "        project_to_lower,\n",
    "        group_and_count('$text'),\n",
    "        match_not_in_bad,\n",
    "        match_count_gt, \n",
    "        sort_by_count_descending,\n",
    "        limit(50)\n",
    "    ]\n",
    "))"
   ]
  },
  {
   "cell_type": "code",
   "execution_count": null,
   "metadata": {},
   "outputs": [],
   "source": []
  }
 ],
 "metadata": {
  "kernelspec": {
   "display_name": "Python 3",
   "language": "python",
   "name": "python3"
  },
  "language_info": {
   "codemirror_mode": {
    "name": "ipython",
    "version": 3
   },
   "file_extension": ".py",
   "mimetype": "text/x-python",
   "name": "python",
   "nbconvert_exporter": "python",
   "pygments_lexer": "ipython3",
   "version": "3.6.4"
  }
 },
 "nbformat": 4,
 "nbformat_minor": 2
}
