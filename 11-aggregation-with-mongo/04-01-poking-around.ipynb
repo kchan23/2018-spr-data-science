{
 "cells": [
  {
   "cell_type": "code",
   "execution_count": 1,
   "metadata": {},
   "outputs": [
    {
     "name": "stdout",
     "output_type": "stream",
     "text": [
      "Requirement already satisfied: pymongo in /opt/conda/lib/python3.6/site-packages\n",
      "\u001b[33mYou are using pip version 9.0.1, however version 10.0.1 is available.\n",
      "You should consider upgrading via the 'pip install --upgrade pip' command.\u001b[0m\n"
     ]
    }
   ],
   "source": [
    "!pip install pymongo"
   ]
  },
  {
   "cell_type": "code",
   "execution_count": 2,
   "metadata": {},
   "outputs": [],
   "source": [
    "from pymongo import MongoClient"
   ]
  },
  {
   "cell_type": "code",
   "execution_count": 3,
   "metadata": {},
   "outputs": [],
   "source": [
    "mongo_client = MongoClient('18.236.138.158', 27016)\n",
    "database_reference = mongo_client.twitter\n",
    "collection_reference = database_reference.tweets"
   ]
  },
  {
   "cell_type": "code",
   "execution_count": 4,
   "metadata": {},
   "outputs": [],
   "source": [
    "cursor = collection_reference.find()"
   ]
  },
  {
   "cell_type": "code",
   "execution_count": 5,
   "metadata": {},
   "outputs": [
    {
     "data": {
      "text/plain": [
       "2157100"
      ]
     },
     "execution_count": 5,
     "metadata": {},
     "output_type": "execute_result"
    }
   ],
   "source": [
    "cursor.count()"
   ]
  },
  {
   "cell_type": "code",
   "execution_count": 6,
   "metadata": {},
   "outputs": [],
   "source": [
    "cursor_sampl = collection_reference.aggregate([{'$sample': {'size': 20}}])"
   ]
  },
  {
   "cell_type": "code",
   "execution_count": 7,
   "metadata": {},
   "outputs": [
    {
     "data": {
      "text/plain": [
       "20"
      ]
     },
     "execution_count": 7,
     "metadata": {},
     "output_type": "execute_result"
    }
   ],
   "source": [
    "len(list(cursor_sampl)) "
   ]
  },
  {
   "cell_type": "code",
   "execution_count": 8,
   "metadata": {},
   "outputs": [],
   "source": [
    "cursor_sampl = collection_reference.aggregate([{'$sample': {'size': 1}}])"
   ]
  },
  {
   "cell_type": "code",
   "execution_count": 9,
   "metadata": {},
   "outputs": [],
   "source": [
    "tw = next(cursor_sampl)"
   ]
  },
  {
   "cell_type": "code",
   "execution_count": 10,
   "metadata": {},
   "outputs": [
    {
     "data": {
      "text/plain": [
       "dict_keys(['_id', 'created_at', 'id', 'id_str', 'text', 'display_text_range', 'source', 'truncated', 'in_reply_to_status_id', 'in_reply_to_status_id_str', 'in_reply_to_user_id', 'in_reply_to_user_id_str', 'in_reply_to_screen_name', 'user', 'geo', 'coordinates', 'place', 'contributors', 'is_quote_status', 'quote_count', 'reply_count', 'retweet_count', 'favorite_count', 'entities', 'favorited', 'retweeted', 'filter_level', 'lang', 'timestamp_ms', 'user_processed'])"
      ]
     },
     "execution_count": 10,
     "metadata": {},
     "output_type": "execute_result"
    }
   ],
   "source": [
    "tw.keys()"
   ]
  },
  {
   "cell_type": "code",
   "execution_count": 11,
   "metadata": {},
   "outputs": [
    {
     "data": {
      "text/plain": [
       "[ObjectId('5a72a7a836dd5f00016c2788'),\n",
       " 'Thu Feb 01 05:37:44 +0000 2018',\n",
       " 958937388243345408,\n",
       " '958937388243345408',\n",
       " '@madisondreyfuss Ily']"
      ]
     },
     "execution_count": 11,
     "metadata": {},
     "output_type": "execute_result"
    }
   ],
   "source": [
    "list(tw.values())[:5]"
   ]
  },
  {
   "cell_type": "code",
   "execution_count": 12,
   "metadata": {},
   "outputs": [],
   "source": [
    "import pandas as pd"
   ]
  },
  {
   "cell_type": "code",
   "execution_count": 13,
   "metadata": {},
   "outputs": [],
   "source": [
    "tw_sample_df = pd.DataFrame(list(collection_reference.aggregate([{'$sample': {'size': 5}}])))"
   ]
  },
  {
   "cell_type": "code",
   "execution_count": 14,
   "metadata": {},
   "outputs": [
    {
     "data": {
      "text/plain": [
       "_id                           object\n",
       "contributors                  object\n",
       "coordinates                   object\n",
       "created_at                    object\n",
       "display_text_range            object\n",
       "entities                      object\n",
       "extended_entities             object\n",
       "extended_tweet                object\n",
       "favorite_count                 int64\n",
       "favorited                       bool\n",
       "filter_level                  object\n",
       "geo                           object\n",
       "id                             int64\n",
       "id_str                        object\n",
       "in_reply_to_screen_name       object\n",
       "in_reply_to_status_id        float64\n",
       "in_reply_to_status_id_str     object\n",
       "in_reply_to_user_id          float64\n",
       "in_reply_to_user_id_str       object\n",
       "is_quote_status                 bool\n",
       "lang                          object\n",
       "place                         object\n",
       "possibly_sensitive            object\n",
       "quote_count                    int64\n",
       "reply_count                    int64\n",
       "retweet_count                  int64\n",
       "retweeted                       bool\n",
       "source                        object\n",
       "text                          object\n",
       "timestamp_ms                  object\n",
       "truncated                       bool\n",
       "user                          object\n",
       "user_processed                object\n",
       "dtype: object"
      ]
     },
     "execution_count": 14,
     "metadata": {},
     "output_type": "execute_result"
    }
   ],
   "source": [
    "tw_sample_df.dtypes"
   ]
  },
  {
   "cell_type": "code",
   "execution_count": 15,
   "metadata": {},
   "outputs": [
    {
     "data": {
      "text/html": [
       "<div>\n",
       "<table border=\"1\" class=\"dataframe\">\n",
       "  <thead>\n",
       "    <tr style=\"text-align: right;\">\n",
       "      <th></th>\n",
       "      <th>favorite_count</th>\n",
       "      <th>id</th>\n",
       "      <th>quote_count</th>\n",
       "      <th>reply_count</th>\n",
       "      <th>retweet_count</th>\n",
       "    </tr>\n",
       "  </thead>\n",
       "  <tbody>\n",
       "    <tr>\n",
       "      <th>0</th>\n",
       "      <td>0</td>\n",
       "      <td>950216864340193281</td>\n",
       "      <td>0</td>\n",
       "      <td>0</td>\n",
       "      <td>0</td>\n",
       "    </tr>\n",
       "    <tr>\n",
       "      <th>1</th>\n",
       "      <td>0</td>\n",
       "      <td>961289381913833472</td>\n",
       "      <td>0</td>\n",
       "      <td>0</td>\n",
       "      <td>0</td>\n",
       "    </tr>\n",
       "    <tr>\n",
       "      <th>2</th>\n",
       "      <td>0</td>\n",
       "      <td>959246611548262401</td>\n",
       "      <td>0</td>\n",
       "      <td>0</td>\n",
       "      <td>0</td>\n",
       "    </tr>\n",
       "    <tr>\n",
       "      <th>3</th>\n",
       "      <td>0</td>\n",
       "      <td>958541501876781056</td>\n",
       "      <td>0</td>\n",
       "      <td>0</td>\n",
       "      <td>0</td>\n",
       "    </tr>\n",
       "    <tr>\n",
       "      <th>4</th>\n",
       "      <td>0</td>\n",
       "      <td>960911550545526784</td>\n",
       "      <td>0</td>\n",
       "      <td>0</td>\n",
       "      <td>0</td>\n",
       "    </tr>\n",
       "  </tbody>\n",
       "</table>\n",
       "</div>"
      ],
      "text/plain": [
       "   favorite_count                  id  quote_count  reply_count  retweet_count\n",
       "0               0  950216864340193281            0            0              0\n",
       "1               0  961289381913833472            0            0              0\n",
       "2               0  959246611548262401            0            0              0\n",
       "3               0  958541501876781056            0            0              0\n",
       "4               0  960911550545526784            0            0              0"
      ]
     },
     "execution_count": 15,
     "metadata": {},
     "output_type": "execute_result"
    }
   ],
   "source": [
    "tw_sample_df.select_dtypes([int])"
   ]
  },
  {
   "cell_type": "code",
   "execution_count": 16,
   "metadata": {},
   "outputs": [
    {
     "data": {
      "text/html": [
       "<div>\n",
       "<table border=\"1\" class=\"dataframe\">\n",
       "  <thead>\n",
       "    <tr style=\"text-align: right;\">\n",
       "      <th></th>\n",
       "      <th>in_reply_to_status_id</th>\n",
       "      <th>in_reply_to_user_id</th>\n",
       "    </tr>\n",
       "  </thead>\n",
       "  <tbody>\n",
       "    <tr>\n",
       "      <th>0</th>\n",
       "      <td>NaN</td>\n",
       "      <td>NaN</td>\n",
       "    </tr>\n",
       "    <tr>\n",
       "      <th>1</th>\n",
       "      <td>9.609110e+17</td>\n",
       "      <td>2.334194e+09</td>\n",
       "    </tr>\n",
       "    <tr>\n",
       "      <th>2</th>\n",
       "      <td>NaN</td>\n",
       "      <td>NaN</td>\n",
       "    </tr>\n",
       "    <tr>\n",
       "      <th>3</th>\n",
       "      <td>NaN</td>\n",
       "      <td>NaN</td>\n",
       "    </tr>\n",
       "    <tr>\n",
       "      <th>4</th>\n",
       "      <td>NaN</td>\n",
       "      <td>NaN</td>\n",
       "    </tr>\n",
       "  </tbody>\n",
       "</table>\n",
       "</div>"
      ],
      "text/plain": [
       "   in_reply_to_status_id  in_reply_to_user_id\n",
       "0                    NaN                  NaN\n",
       "1           9.609110e+17         2.334194e+09\n",
       "2                    NaN                  NaN\n",
       "3                    NaN                  NaN\n",
       "4                    NaN                  NaN"
      ]
     },
     "execution_count": 16,
     "metadata": {},
     "output_type": "execute_result"
    }
   ],
   "source": [
    "tw_sample_df.select_dtypes([float])"
   ]
  },
  {
   "cell_type": "code",
   "execution_count": 17,
   "metadata": {
    "scrolled": false
   },
   "outputs": [
    {
     "data": {
      "text/html": [
       "<div>\n",
       "<table border=\"1\" class=\"dataframe\">\n",
       "  <thead>\n",
       "    <tr style=\"text-align: right;\">\n",
       "      <th></th>\n",
       "      <th>_id</th>\n",
       "      <th>contributors</th>\n",
       "      <th>coordinates</th>\n",
       "      <th>created_at</th>\n",
       "      <th>display_text_range</th>\n",
       "      <th>entities</th>\n",
       "      <th>extended_entities</th>\n",
       "      <th>extended_tweet</th>\n",
       "      <th>filter_level</th>\n",
       "      <th>geo</th>\n",
       "      <th>...</th>\n",
       "      <th>in_reply_to_status_id_str</th>\n",
       "      <th>in_reply_to_user_id_str</th>\n",
       "      <th>lang</th>\n",
       "      <th>place</th>\n",
       "      <th>possibly_sensitive</th>\n",
       "      <th>source</th>\n",
       "      <th>text</th>\n",
       "      <th>timestamp_ms</th>\n",
       "      <th>user</th>\n",
       "      <th>user_processed</th>\n",
       "    </tr>\n",
       "  </thead>\n",
       "  <tbody>\n",
       "    <tr>\n",
       "      <th>0</th>\n",
       "      <td>5a52ee0936dd5f0001592568</td>\n",
       "      <td>None</td>\n",
       "      <td>None</td>\n",
       "      <td>Mon Jan 08 04:05:29 +0000 2018</td>\n",
       "      <td>[0, 50]</td>\n",
       "      <td>{'hashtags': [], 'urls': [], 'user_mentions': ...</td>\n",
       "      <td>{'media': [{'id': 950216859772600320, 'id_str'...</td>\n",
       "      <td>NaN</td>\n",
       "      <td>low</td>\n",
       "      <td>None</td>\n",
       "      <td>...</td>\n",
       "      <td>None</td>\n",
       "      <td>None</td>\n",
       "      <td>en</td>\n",
       "      <td>{'id': '3b77caf94bfc81fe', 'url': 'https://api...</td>\n",
       "      <td>False</td>\n",
       "      <td>&lt;a href=\"http://twitter.com/download/iphone\" r...</td>\n",
       "      <td>Thank you tinder for the little confidence boo...</td>\n",
       "      <td>1515384329291</td>\n",
       "      <td>{'id': 164952466, 'id_str': '164952466', 'name...</td>\n",
       "      <td>True</td>\n",
       "    </tr>\n",
       "    <tr>\n",
       "      <th>1</th>\n",
       "      <td>5a7b361f15ba4c000157e09f</td>\n",
       "      <td>None</td>\n",
       "      <td>None</td>\n",
       "      <td>Wed Feb 07 17:23:43 +0000 2018</td>\n",
       "      <td>[7, 140]</td>\n",
       "      <td>{'hashtags': [], 'urls': [{'url': 'https://t.c...</td>\n",
       "      <td>NaN</td>\n",
       "      <td>{'full_text': '@Comey Oh Jimmy! How about this...</td>\n",
       "      <td>low</td>\n",
       "      <td>None</td>\n",
       "      <td>...</td>\n",
       "      <td>960911029881462784</td>\n",
       "      <td>2334193741</td>\n",
       "      <td>en</td>\n",
       "      <td>{'id': '3b77caf94bfc81fe', 'url': 'https://api...</td>\n",
       "      <td>NaN</td>\n",
       "      <td>&lt;a href=\"http://twitter.com/#!/download/ipad\" ...</td>\n",
       "      <td>@Comey Oh Jimmy! How about this???\\nBREAKING: ...</td>\n",
       "      <td>1518024223198</td>\n",
       "      <td>{'id': 456932170, 'id_str': '456932170', 'name...</td>\n",
       "      <td>NaN</td>\n",
       "    </tr>\n",
       "    <tr>\n",
       "      <th>2</th>\n",
       "      <td>5a73c7a536dd5f00016ccc21</td>\n",
       "      <td>None</td>\n",
       "      <td>None</td>\n",
       "      <td>Fri Feb 02 02:06:28 +0000 2018</td>\n",
       "      <td>NaN</td>\n",
       "      <td>{'hashtags': [], 'urls': [], 'user_mentions': ...</td>\n",
       "      <td>NaN</td>\n",
       "      <td>NaN</td>\n",
       "      <td>low</td>\n",
       "      <td>None</td>\n",
       "      <td>...</td>\n",
       "      <td>None</td>\n",
       "      <td>None</td>\n",
       "      <td>en</td>\n",
       "      <td>{'id': 'fbd6d2f5a4e4a15e', 'url': 'https://api...</td>\n",
       "      <td>NaN</td>\n",
       "      <td>&lt;a href=\"http://twitter.com/download/iphone\" r...</td>\n",
       "      <td>i’m hungry, tired, but have hw due tonight wit...</td>\n",
       "      <td>1517537188790</td>\n",
       "      <td>{'id': 560878173, 'id_str': '560878173', 'name...</td>\n",
       "      <td>True</td>\n",
       "    </tr>\n",
       "    <tr>\n",
       "      <th>3</th>\n",
       "      <td>5a7136f536dd5f00016b38aa</td>\n",
       "      <td>None</td>\n",
       "      <td>None</td>\n",
       "      <td>Wed Jan 31 03:24:37 +0000 2018</td>\n",
       "      <td>NaN</td>\n",
       "      <td>{'hashtags': [], 'urls': [], 'user_mentions': ...</td>\n",
       "      <td>NaN</td>\n",
       "      <td>NaN</td>\n",
       "      <td>low</td>\n",
       "      <td>None</td>\n",
       "      <td>...</td>\n",
       "      <td>None</td>\n",
       "      <td>None</td>\n",
       "      <td>und</td>\n",
       "      <td>{'id': '3b77caf94bfc81fe', 'url': 'https://api...</td>\n",
       "      <td>NaN</td>\n",
       "      <td>&lt;a href=\"http://twitter.com/download/iphone\" r...</td>\n",
       "      <td>🚀🚀🚀</td>\n",
       "      <td>1517369077544</td>\n",
       "      <td>{'id': 15879201, 'id_str': '15879201', 'name':...</td>\n",
       "      <td>True</td>\n",
       "    </tr>\n",
       "    <tr>\n",
       "      <th>4</th>\n",
       "      <td>5a79d63d15ba4c0001570d0a</td>\n",
       "      <td>None</td>\n",
       "      <td>{'type': 'Point', 'coordinates': [-122.6045391...</td>\n",
       "      <td>Tue Feb 06 16:22:21 +0000 2018</td>\n",
       "      <td>NaN</td>\n",
       "      <td>{'hashtags': [{'text': 'fetidadderstongue', 'i...</td>\n",
       "      <td>NaN</td>\n",
       "      <td>NaN</td>\n",
       "      <td>low</td>\n",
       "      <td>{'type': 'Point', 'coordinates': [37.9699061, ...</td>\n",
       "      <td>...</td>\n",
       "      <td>None</td>\n",
       "      <td>None</td>\n",
       "      <td>en</td>\n",
       "      <td>{'id': 'fbd6d2f5a4e4a15e', 'url': 'https://api...</td>\n",
       "      <td>False</td>\n",
       "      <td>&lt;a href=\"http://instagram.com\" rel=\"nofollow\"&gt;...</td>\n",
       "      <td>Fetid Adder’s Tongue blooming on Bolinas Ridge...</td>\n",
       "      <td>1517934141180</td>\n",
       "      <td>{'id': 54802069, 'id_str': '54802069', 'name':...</td>\n",
       "      <td>NaN</td>\n",
       "    </tr>\n",
       "  </tbody>\n",
       "</table>\n",
       "<p>5 rows × 22 columns</p>\n",
       "</div>"
      ],
      "text/plain": [
       "                        _id contributors  \\\n",
       "0  5a52ee0936dd5f0001592568         None   \n",
       "1  5a7b361f15ba4c000157e09f         None   \n",
       "2  5a73c7a536dd5f00016ccc21         None   \n",
       "3  5a7136f536dd5f00016b38aa         None   \n",
       "4  5a79d63d15ba4c0001570d0a         None   \n",
       "\n",
       "                                         coordinates  \\\n",
       "0                                               None   \n",
       "1                                               None   \n",
       "2                                               None   \n",
       "3                                               None   \n",
       "4  {'type': 'Point', 'coordinates': [-122.6045391...   \n",
       "\n",
       "                       created_at display_text_range  \\\n",
       "0  Mon Jan 08 04:05:29 +0000 2018            [0, 50]   \n",
       "1  Wed Feb 07 17:23:43 +0000 2018           [7, 140]   \n",
       "2  Fri Feb 02 02:06:28 +0000 2018                NaN   \n",
       "3  Wed Jan 31 03:24:37 +0000 2018                NaN   \n",
       "4  Tue Feb 06 16:22:21 +0000 2018                NaN   \n",
       "\n",
       "                                            entities  \\\n",
       "0  {'hashtags': [], 'urls': [], 'user_mentions': ...   \n",
       "1  {'hashtags': [], 'urls': [{'url': 'https://t.c...   \n",
       "2  {'hashtags': [], 'urls': [], 'user_mentions': ...   \n",
       "3  {'hashtags': [], 'urls': [], 'user_mentions': ...   \n",
       "4  {'hashtags': [{'text': 'fetidadderstongue', 'i...   \n",
       "\n",
       "                                   extended_entities  \\\n",
       "0  {'media': [{'id': 950216859772600320, 'id_str'...   \n",
       "1                                                NaN   \n",
       "2                                                NaN   \n",
       "3                                                NaN   \n",
       "4                                                NaN   \n",
       "\n",
       "                                      extended_tweet filter_level  \\\n",
       "0                                                NaN          low   \n",
       "1  {'full_text': '@Comey Oh Jimmy! How about this...          low   \n",
       "2                                                NaN          low   \n",
       "3                                                NaN          low   \n",
       "4                                                NaN          low   \n",
       "\n",
       "                                                 geo      ...        \\\n",
       "0                                               None      ...         \n",
       "1                                               None      ...         \n",
       "2                                               None      ...         \n",
       "3                                               None      ...         \n",
       "4  {'type': 'Point', 'coordinates': [37.9699061, ...      ...         \n",
       "\n",
       "  in_reply_to_status_id_str in_reply_to_user_id_str lang  \\\n",
       "0                      None                    None   en   \n",
       "1        960911029881462784              2334193741   en   \n",
       "2                      None                    None   en   \n",
       "3                      None                    None  und   \n",
       "4                      None                    None   en   \n",
       "\n",
       "                                               place possibly_sensitive  \\\n",
       "0  {'id': '3b77caf94bfc81fe', 'url': 'https://api...              False   \n",
       "1  {'id': '3b77caf94bfc81fe', 'url': 'https://api...                NaN   \n",
       "2  {'id': 'fbd6d2f5a4e4a15e', 'url': 'https://api...                NaN   \n",
       "3  {'id': '3b77caf94bfc81fe', 'url': 'https://api...                NaN   \n",
       "4  {'id': 'fbd6d2f5a4e4a15e', 'url': 'https://api...              False   \n",
       "\n",
       "                                              source  \\\n",
       "0  <a href=\"http://twitter.com/download/iphone\" r...   \n",
       "1  <a href=\"http://twitter.com/#!/download/ipad\" ...   \n",
       "2  <a href=\"http://twitter.com/download/iphone\" r...   \n",
       "3  <a href=\"http://twitter.com/download/iphone\" r...   \n",
       "4  <a href=\"http://instagram.com\" rel=\"nofollow\">...   \n",
       "\n",
       "                                                text   timestamp_ms  \\\n",
       "0  Thank you tinder for the little confidence boo...  1515384329291   \n",
       "1  @Comey Oh Jimmy! How about this???\\nBREAKING: ...  1518024223198   \n",
       "2  i’m hungry, tired, but have hw due tonight wit...  1517537188790   \n",
       "3                                                🚀🚀🚀  1517369077544   \n",
       "4  Fetid Adder’s Tongue blooming on Bolinas Ridge...  1517934141180   \n",
       "\n",
       "                                                user user_processed  \n",
       "0  {'id': 164952466, 'id_str': '164952466', 'name...           True  \n",
       "1  {'id': 456932170, 'id_str': '456932170', 'name...            NaN  \n",
       "2  {'id': 560878173, 'id_str': '560878173', 'name...           True  \n",
       "3  {'id': 15879201, 'id_str': '15879201', 'name':...           True  \n",
       "4  {'id': 54802069, 'id_str': '54802069', 'name':...            NaN  \n",
       "\n",
       "[5 rows x 22 columns]"
      ]
     },
     "execution_count": 17,
     "metadata": {},
     "output_type": "execute_result"
    }
   ],
   "source": [
    "tw_sample_df.select_dtypes(['object'])"
   ]
  },
  {
   "cell_type": "code",
   "execution_count": 18,
   "metadata": {},
   "outputs": [],
   "source": [
    "cursor_sampl = collection_reference.aggregate([{'$sample': {'size': 1}}])"
   ]
  },
  {
   "cell_type": "code",
   "execution_count": 19,
   "metadata": {},
   "outputs": [],
   "source": [
    "tw_sample_df['created_at'] = pd.to_datetime(tw_sample_df['created_at'])"
   ]
  },
  {
   "cell_type": "code",
   "execution_count": 20,
   "metadata": {},
   "outputs": [
    {
     "data": {
      "text/html": [
       "<div>\n",
       "<table border=\"1\" class=\"dataframe\">\n",
       "  <thead>\n",
       "    <tr style=\"text-align: right;\">\n",
       "      <th></th>\n",
       "      <th>_id</th>\n",
       "      <th>contributors</th>\n",
       "      <th>coordinates</th>\n",
       "      <th>created_at</th>\n",
       "      <th>display_text_range</th>\n",
       "      <th>entities</th>\n",
       "      <th>extended_entities</th>\n",
       "      <th>extended_tweet</th>\n",
       "      <th>favorite_count</th>\n",
       "      <th>favorited</th>\n",
       "      <th>...</th>\n",
       "      <th>quote_count</th>\n",
       "      <th>reply_count</th>\n",
       "      <th>retweet_count</th>\n",
       "      <th>retweeted</th>\n",
       "      <th>source</th>\n",
       "      <th>text</th>\n",
       "      <th>timestamp_ms</th>\n",
       "      <th>truncated</th>\n",
       "      <th>user</th>\n",
       "      <th>user_processed</th>\n",
       "    </tr>\n",
       "  </thead>\n",
       "  <tbody>\n",
       "    <tr>\n",
       "      <th>0</th>\n",
       "      <td>5a52ee0936dd5f0001592568</td>\n",
       "      <td>None</td>\n",
       "      <td>None</td>\n",
       "      <td>2018-01-08 04:05:29</td>\n",
       "      <td>[0, 50]</td>\n",
       "      <td>{'hashtags': [], 'urls': [], 'user_mentions': ...</td>\n",
       "      <td>{'media': [{'id': 950216859772600320, 'id_str'...</td>\n",
       "      <td>NaN</td>\n",
       "      <td>0</td>\n",
       "      <td>False</td>\n",
       "      <td>...</td>\n",
       "      <td>0</td>\n",
       "      <td>0</td>\n",
       "      <td>0</td>\n",
       "      <td>False</td>\n",
       "      <td>&lt;a href=\"http://twitter.com/download/iphone\" r...</td>\n",
       "      <td>Thank you tinder for the little confidence boo...</td>\n",
       "      <td>1515384329291</td>\n",
       "      <td>False</td>\n",
       "      <td>{'id': 164952466, 'id_str': '164952466', 'name...</td>\n",
       "      <td>True</td>\n",
       "    </tr>\n",
       "    <tr>\n",
       "      <th>1</th>\n",
       "      <td>5a7b361f15ba4c000157e09f</td>\n",
       "      <td>None</td>\n",
       "      <td>None</td>\n",
       "      <td>2018-02-07 17:23:43</td>\n",
       "      <td>[7, 140]</td>\n",
       "      <td>{'hashtags': [], 'urls': [{'url': 'https://t.c...</td>\n",
       "      <td>NaN</td>\n",
       "      <td>{'full_text': '@Comey Oh Jimmy! How about this...</td>\n",
       "      <td>0</td>\n",
       "      <td>False</td>\n",
       "      <td>...</td>\n",
       "      <td>0</td>\n",
       "      <td>0</td>\n",
       "      <td>0</td>\n",
       "      <td>False</td>\n",
       "      <td>&lt;a href=\"http://twitter.com/#!/download/ipad\" ...</td>\n",
       "      <td>@Comey Oh Jimmy! How about this???\\nBREAKING: ...</td>\n",
       "      <td>1518024223198</td>\n",
       "      <td>True</td>\n",
       "      <td>{'id': 456932170, 'id_str': '456932170', 'name...</td>\n",
       "      <td>NaN</td>\n",
       "    </tr>\n",
       "    <tr>\n",
       "      <th>2</th>\n",
       "      <td>5a73c7a536dd5f00016ccc21</td>\n",
       "      <td>None</td>\n",
       "      <td>None</td>\n",
       "      <td>2018-02-02 02:06:28</td>\n",
       "      <td>NaN</td>\n",
       "      <td>{'hashtags': [], 'urls': [], 'user_mentions': ...</td>\n",
       "      <td>NaN</td>\n",
       "      <td>NaN</td>\n",
       "      <td>0</td>\n",
       "      <td>False</td>\n",
       "      <td>...</td>\n",
       "      <td>0</td>\n",
       "      <td>0</td>\n",
       "      <td>0</td>\n",
       "      <td>False</td>\n",
       "      <td>&lt;a href=\"http://twitter.com/download/iphone\" r...</td>\n",
       "      <td>i’m hungry, tired, but have hw due tonight wit...</td>\n",
       "      <td>1517537188790</td>\n",
       "      <td>False</td>\n",
       "      <td>{'id': 560878173, 'id_str': '560878173', 'name...</td>\n",
       "      <td>True</td>\n",
       "    </tr>\n",
       "    <tr>\n",
       "      <th>3</th>\n",
       "      <td>5a7136f536dd5f00016b38aa</td>\n",
       "      <td>None</td>\n",
       "      <td>None</td>\n",
       "      <td>2018-01-31 03:24:37</td>\n",
       "      <td>NaN</td>\n",
       "      <td>{'hashtags': [], 'urls': [], 'user_mentions': ...</td>\n",
       "      <td>NaN</td>\n",
       "      <td>NaN</td>\n",
       "      <td>0</td>\n",
       "      <td>False</td>\n",
       "      <td>...</td>\n",
       "      <td>0</td>\n",
       "      <td>0</td>\n",
       "      <td>0</td>\n",
       "      <td>False</td>\n",
       "      <td>&lt;a href=\"http://twitter.com/download/iphone\" r...</td>\n",
       "      <td>🚀🚀🚀</td>\n",
       "      <td>1517369077544</td>\n",
       "      <td>False</td>\n",
       "      <td>{'id': 15879201, 'id_str': '15879201', 'name':...</td>\n",
       "      <td>True</td>\n",
       "    </tr>\n",
       "    <tr>\n",
       "      <th>4</th>\n",
       "      <td>5a79d63d15ba4c0001570d0a</td>\n",
       "      <td>None</td>\n",
       "      <td>{'type': 'Point', 'coordinates': [-122.6045391...</td>\n",
       "      <td>2018-02-06 16:22:21</td>\n",
       "      <td>NaN</td>\n",
       "      <td>{'hashtags': [{'text': 'fetidadderstongue', 'i...</td>\n",
       "      <td>NaN</td>\n",
       "      <td>NaN</td>\n",
       "      <td>0</td>\n",
       "      <td>False</td>\n",
       "      <td>...</td>\n",
       "      <td>0</td>\n",
       "      <td>0</td>\n",
       "      <td>0</td>\n",
       "      <td>False</td>\n",
       "      <td>&lt;a href=\"http://instagram.com\" rel=\"nofollow\"&gt;...</td>\n",
       "      <td>Fetid Adder’s Tongue blooming on Bolinas Ridge...</td>\n",
       "      <td>1517934141180</td>\n",
       "      <td>False</td>\n",
       "      <td>{'id': 54802069, 'id_str': '54802069', 'name':...</td>\n",
       "      <td>NaN</td>\n",
       "    </tr>\n",
       "  </tbody>\n",
       "</table>\n",
       "<p>5 rows × 33 columns</p>\n",
       "</div>"
      ],
      "text/plain": [
       "                        _id contributors  \\\n",
       "0  5a52ee0936dd5f0001592568         None   \n",
       "1  5a7b361f15ba4c000157e09f         None   \n",
       "2  5a73c7a536dd5f00016ccc21         None   \n",
       "3  5a7136f536dd5f00016b38aa         None   \n",
       "4  5a79d63d15ba4c0001570d0a         None   \n",
       "\n",
       "                                         coordinates          created_at  \\\n",
       "0                                               None 2018-01-08 04:05:29   \n",
       "1                                               None 2018-02-07 17:23:43   \n",
       "2                                               None 2018-02-02 02:06:28   \n",
       "3                                               None 2018-01-31 03:24:37   \n",
       "4  {'type': 'Point', 'coordinates': [-122.6045391... 2018-02-06 16:22:21   \n",
       "\n",
       "  display_text_range                                           entities  \\\n",
       "0            [0, 50]  {'hashtags': [], 'urls': [], 'user_mentions': ...   \n",
       "1           [7, 140]  {'hashtags': [], 'urls': [{'url': 'https://t.c...   \n",
       "2                NaN  {'hashtags': [], 'urls': [], 'user_mentions': ...   \n",
       "3                NaN  {'hashtags': [], 'urls': [], 'user_mentions': ...   \n",
       "4                NaN  {'hashtags': [{'text': 'fetidadderstongue', 'i...   \n",
       "\n",
       "                                   extended_entities  \\\n",
       "0  {'media': [{'id': 950216859772600320, 'id_str'...   \n",
       "1                                                NaN   \n",
       "2                                                NaN   \n",
       "3                                                NaN   \n",
       "4                                                NaN   \n",
       "\n",
       "                                      extended_tweet  favorite_count  \\\n",
       "0                                                NaN               0   \n",
       "1  {'full_text': '@Comey Oh Jimmy! How about this...               0   \n",
       "2                                                NaN               0   \n",
       "3                                                NaN               0   \n",
       "4                                                NaN               0   \n",
       "\n",
       "  favorited      ...       quote_count reply_count  retweet_count retweeted  \\\n",
       "0     False      ...                 0           0              0     False   \n",
       "1     False      ...                 0           0              0     False   \n",
       "2     False      ...                 0           0              0     False   \n",
       "3     False      ...                 0           0              0     False   \n",
       "4     False      ...                 0           0              0     False   \n",
       "\n",
       "                                              source  \\\n",
       "0  <a href=\"http://twitter.com/download/iphone\" r...   \n",
       "1  <a href=\"http://twitter.com/#!/download/ipad\" ...   \n",
       "2  <a href=\"http://twitter.com/download/iphone\" r...   \n",
       "3  <a href=\"http://twitter.com/download/iphone\" r...   \n",
       "4  <a href=\"http://instagram.com\" rel=\"nofollow\">...   \n",
       "\n",
       "                                                text   timestamp_ms  \\\n",
       "0  Thank you tinder for the little confidence boo...  1515384329291   \n",
       "1  @Comey Oh Jimmy! How about this???\\nBREAKING: ...  1518024223198   \n",
       "2  i’m hungry, tired, but have hw due tonight wit...  1517537188790   \n",
       "3                                                🚀🚀🚀  1517369077544   \n",
       "4  Fetid Adder’s Tongue blooming on Bolinas Ridge...  1517934141180   \n",
       "\n",
       "   truncated                                               user user_processed  \n",
       "0      False  {'id': 164952466, 'id_str': '164952466', 'name...           True  \n",
       "1       True  {'id': 456932170, 'id_str': '456932170', 'name...            NaN  \n",
       "2      False  {'id': 560878173, 'id_str': '560878173', 'name...           True  \n",
       "3      False  {'id': 15879201, 'id_str': '15879201', 'name':...           True  \n",
       "4      False  {'id': 54802069, 'id_str': '54802069', 'name':...            NaN  \n",
       "\n",
       "[5 rows x 33 columns]"
      ]
     },
     "execution_count": 20,
     "metadata": {},
     "output_type": "execute_result"
    }
   ],
   "source": [
    "tw_sample_df"
   ]
  },
  {
   "cell_type": "markdown",
   "metadata": {},
   "source": [
    "## Tweets Containing Geo Information"
   ]
  },
  {
   "cell_type": "code",
   "execution_count": 21,
   "metadata": {},
   "outputs": [
    {
     "data": {
      "text/plain": [
       "<pymongo.cursor.Cursor at 0x7f92bf457da0>"
      ]
     },
     "execution_count": 21,
     "metadata": {},
     "output_type": "execute_result"
    }
   ],
   "source": [
    "contain_geo_search = collection_reference.find({'geo' : { '$ne' : None}})\n",
    "contain_geo_search"
   ]
  },
  {
   "cell_type": "markdown",
   "metadata": {},
   "source": [
    "### DO NOT RUN THIS "
   ]
  },
  {
   "cell_type": "code",
   "execution_count": 22,
   "metadata": {},
   "outputs": [],
   "source": [
    "# contain_geo_search.count()"
   ]
  },
  {
   "cell_type": "markdown",
   "metadata": {},
   "source": [
    "    318373"
   ]
  },
  {
   "cell_type": "markdown",
   "metadata": {},
   "source": [
    "## Distinct Users\n",
    "\n",
    "#### TRY THIS"
   ]
  },
  {
   "cell_type": "code",
   "execution_count": 23,
   "metadata": {},
   "outputs": [
    {
     "ename": "OperationFailure",
     "evalue": "distinct too big, 16mb cap",
     "output_type": "error",
     "traceback": [
      "\u001b[0;31m---------------------------------------------------------------------------\u001b[0m",
      "\u001b[0;31mOperationFailure\u001b[0m                          Traceback (most recent call last)",
      "\u001b[0;32m<ipython-input-23-1172ea4afe07>\u001b[0m in \u001b[0;36m<module>\u001b[0;34m()\u001b[0m\n\u001b[0;32m----> 1\u001b[0;31m \u001b[0mcollection_reference\u001b[0m\u001b[0;34m.\u001b[0m\u001b[0mdistinct\u001b[0m\u001b[0;34m(\u001b[0m\u001b[0;34m'user'\u001b[0m\u001b[0;34m)\u001b[0m\u001b[0;34m\u001b[0m\u001b[0m\n\u001b[0m",
      "\u001b[0;32m/opt/conda/lib/python3.6/site-packages/pymongo/collection.py\u001b[0m in \u001b[0;36mdistinct\u001b[0;34m(self, key, filter, session, **kwargs)\u001b[0m\n\u001b[1;32m   2446\u001b[0m             return self._command(sock_info, cmd, slave_ok,\n\u001b[1;32m   2447\u001b[0m                                  \u001b[0mread_concern\u001b[0m\u001b[0;34m=\u001b[0m\u001b[0mself\u001b[0m\u001b[0;34m.\u001b[0m\u001b[0mread_concern\u001b[0m\u001b[0;34m,\u001b[0m\u001b[0;34m\u001b[0m\u001b[0m\n\u001b[0;32m-> 2448\u001b[0;31m                                  collation=collation, session=session)[\"values\"]\n\u001b[0m\u001b[1;32m   2449\u001b[0m \u001b[0;34m\u001b[0m\u001b[0m\n\u001b[1;32m   2450\u001b[0m     def map_reduce(self, map, reduce, out, full_response=False, session=None,\n",
      "\u001b[0;32m/opt/conda/lib/python3.6/site-packages/pymongo/collection.py\u001b[0m in \u001b[0;36m_command\u001b[0;34m(self, sock_info, command, slave_ok, read_preference, codec_options, check, allowable_errors, read_concern, write_concern, parse_write_concern_error, collation, session, retryable_write)\u001b[0m\n\u001b[1;32m    243\u001b[0m                 \u001b[0msession\u001b[0m\u001b[0;34m=\u001b[0m\u001b[0ms\u001b[0m\u001b[0;34m,\u001b[0m\u001b[0;34m\u001b[0m\u001b[0m\n\u001b[1;32m    244\u001b[0m                 \u001b[0mclient\u001b[0m\u001b[0;34m=\u001b[0m\u001b[0mself\u001b[0m\u001b[0;34m.\u001b[0m\u001b[0m__database\u001b[0m\u001b[0;34m.\u001b[0m\u001b[0mclient\u001b[0m\u001b[0;34m,\u001b[0m\u001b[0;34m\u001b[0m\u001b[0m\n\u001b[0;32m--> 245\u001b[0;31m                 retryable_write=retryable_write)\n\u001b[0m\u001b[1;32m    246\u001b[0m \u001b[0;34m\u001b[0m\u001b[0m\n\u001b[1;32m    247\u001b[0m     \u001b[0;32mdef\u001b[0m \u001b[0m__create\u001b[0m\u001b[0;34m(\u001b[0m\u001b[0mself\u001b[0m\u001b[0;34m,\u001b[0m \u001b[0moptions\u001b[0m\u001b[0;34m,\u001b[0m \u001b[0mcollation\u001b[0m\u001b[0;34m,\u001b[0m \u001b[0msession\u001b[0m\u001b[0;34m)\u001b[0m\u001b[0;34m:\u001b[0m\u001b[0;34m\u001b[0m\u001b[0m\n",
      "\u001b[0;32m/opt/conda/lib/python3.6/site-packages/pymongo/pool.py\u001b[0m in \u001b[0;36mcommand\u001b[0;34m(self, dbname, spec, slave_ok, read_preference, codec_options, check, allowable_errors, check_keys, read_concern, write_concern, parse_write_concern_error, collation, session, client, retryable_write, publish_events)\u001b[0m\n\u001b[1;32m    515\u001b[0m                            \u001b[0mself\u001b[0m\u001b[0;34m.\u001b[0m\u001b[0mmax_bson_size\u001b[0m\u001b[0;34m,\u001b[0m \u001b[0mread_concern\u001b[0m\u001b[0;34m,\u001b[0m\u001b[0;34m\u001b[0m\u001b[0m\n\u001b[1;32m    516\u001b[0m                            \u001b[0mparse_write_concern_error\u001b[0m\u001b[0;34m=\u001b[0m\u001b[0mparse_write_concern_error\u001b[0m\u001b[0;34m,\u001b[0m\u001b[0;34m\u001b[0m\u001b[0m\n\u001b[0;32m--> 517\u001b[0;31m                            collation=collation)\n\u001b[0m\u001b[1;32m    518\u001b[0m         \u001b[0;32mexcept\u001b[0m \u001b[0mOperationFailure\u001b[0m\u001b[0;34m:\u001b[0m\u001b[0;34m\u001b[0m\u001b[0m\n\u001b[1;32m    519\u001b[0m             \u001b[0;32mraise\u001b[0m\u001b[0;34m\u001b[0m\u001b[0m\n",
      "\u001b[0;32m/opt/conda/lib/python3.6/site-packages/pymongo/network.py\u001b[0m in \u001b[0;36mcommand\u001b[0;34m(sock, dbname, spec, slave_ok, is_mongos, read_preference, codec_options, session, client, check, allowable_errors, address, check_keys, listeners, max_bson_size, read_concern, parse_write_concern_error, collation)\u001b[0m\n\u001b[1;32m    123\u001b[0m             helpers._check_command_response(\n\u001b[1;32m    124\u001b[0m                 \u001b[0mresponse_doc\u001b[0m\u001b[0;34m,\u001b[0m \u001b[0;32mNone\u001b[0m\u001b[0;34m,\u001b[0m \u001b[0mallowable_errors\u001b[0m\u001b[0;34m,\u001b[0m\u001b[0;34m\u001b[0m\u001b[0m\n\u001b[0;32m--> 125\u001b[0;31m                 parse_write_concern_error=parse_write_concern_error)\n\u001b[0m\u001b[1;32m    126\u001b[0m     \u001b[0;32mexcept\u001b[0m \u001b[0mException\u001b[0m \u001b[0;32mas\u001b[0m \u001b[0mexc\u001b[0m\u001b[0;34m:\u001b[0m\u001b[0;34m\u001b[0m\u001b[0m\n\u001b[1;32m    127\u001b[0m         \u001b[0;32mif\u001b[0m \u001b[0mpublish\u001b[0m\u001b[0;34m:\u001b[0m\u001b[0;34m\u001b[0m\u001b[0m\n",
      "\u001b[0;32m/opt/conda/lib/python3.6/site-packages/pymongo/helpers.py\u001b[0m in \u001b[0;36m_check_command_response\u001b[0;34m(response, msg, allowable_errors, parse_write_concern_error)\u001b[0m\n\u001b[1;32m    143\u001b[0m \u001b[0;34m\u001b[0m\u001b[0m\n\u001b[1;32m    144\u001b[0m             \u001b[0mmsg\u001b[0m \u001b[0;34m=\u001b[0m \u001b[0mmsg\u001b[0m \u001b[0;32mor\u001b[0m \u001b[0;34m\"%s\"\u001b[0m\u001b[0;34m\u001b[0m\u001b[0m\n\u001b[0;32m--> 145\u001b[0;31m             \u001b[0;32mraise\u001b[0m \u001b[0mOperationFailure\u001b[0m\u001b[0;34m(\u001b[0m\u001b[0mmsg\u001b[0m \u001b[0;34m%\u001b[0m \u001b[0merrmsg\u001b[0m\u001b[0;34m,\u001b[0m \u001b[0mcode\u001b[0m\u001b[0;34m,\u001b[0m \u001b[0mresponse\u001b[0m\u001b[0;34m)\u001b[0m\u001b[0;34m\u001b[0m\u001b[0m\n\u001b[0m\u001b[1;32m    146\u001b[0m \u001b[0;34m\u001b[0m\u001b[0m\n\u001b[1;32m    147\u001b[0m \u001b[0;34m\u001b[0m\u001b[0m\n",
      "\u001b[0;31mOperationFailure\u001b[0m: distinct too big, 16mb cap"
     ]
    }
   ],
   "source": [
    "collection_reference.distinct('user')"
   ]
  },
  {
   "cell_type": "code",
   "execution_count": null,
   "metadata": {},
   "outputs": [],
   "source": []
  }
 ],
 "metadata": {
  "kernelspec": {
   "display_name": "Python 3",
   "language": "python",
   "name": "python3"
  },
  "language_info": {
   "codemirror_mode": {
    "name": "ipython",
    "version": 3
   },
   "file_extension": ".py",
   "mimetype": "text/x-python",
   "name": "python",
   "nbconvert_exporter": "python",
   "pygments_lexer": "ipython3",
   "version": "3.6.4"
  }
 },
 "nbformat": 4,
 "nbformat_minor": 2
}
